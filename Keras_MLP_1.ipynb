{
  "cells": [
    {
      "cell_type": "markdown",
      "metadata": {
        "id": "view-in-github",
        "colab_type": "text"
      },
      "source": [
        "<a href=\"https://colab.research.google.com/github/hellomstars/DeepLearning/blob/main/Keras_MLP.ipynb\" target=\"_parent\"><img src=\"https://colab.research.google.com/assets/colab-badge.svg\" alt=\"Open In Colab\"/></a>"
      ]
    },
    {
      "cell_type": "markdown",
      "metadata": {
        "id": "TAf_Ukszyc7Y"
      },
      "source": [
        "# **Keras를 사용한 MLP 구현**"
      ]
    },
    {
      "cell_type": "markdown",
      "source": [
        "###Sequential API를 사용한 image classifier"
      ],
      "metadata": {
        "id": "PEyV18Xh7Ad0"
      }
    },
    {
      "cell_type": "code",
      "execution_count": null,
      "metadata": {
        "colab": {
          "base_uri": "https://localhost:8080/"
        },
        "id": "TAk80k_8vN10",
        "outputId": "1ddb30bf-37c0-43d1-fc1f-062b425e6eee"
      },
      "outputs": [
        {
          "output_type": "stream",
          "name": "stdout",
          "text": [
            "2.8.2\n",
            "2.8.0\n"
          ]
        }
      ],
      "source": [
        "import tensorflow as tf\n",
        "from tensorflow import keras\n",
        "print(tf.__version__)\n",
        "print(keras.__version__)"
      ]
    },
    {
      "cell_type": "code",
      "execution_count": null,
      "metadata": {
        "colab": {
          "base_uri": "https://localhost:8080/"
        },
        "id": "GxBTEeFAyYhX",
        "outputId": "fc1267bd-41aa-4041-e092-e6a42fb24c55"
      },
      "outputs": [
        {
          "output_type": "stream",
          "name": "stdout",
          "text": [
            "Downloading data from https://storage.googleapis.com/tensorflow/tf-keras-datasets/train-labels-idx1-ubyte.gz\n",
            "32768/29515 [=================================] - 0s 0us/step\n",
            "40960/29515 [=========================================] - 0s 0us/step\n",
            "Downloading data from https://storage.googleapis.com/tensorflow/tf-keras-datasets/train-images-idx3-ubyte.gz\n",
            "26427392/26421880 [==============================] - 3s 0us/step\n",
            "26435584/26421880 [==============================] - 3s 0us/step\n",
            "Downloading data from https://storage.googleapis.com/tensorflow/tf-keras-datasets/t10k-labels-idx1-ubyte.gz\n",
            "16384/5148 [===============================================================================================] - 0s 0us/step\n",
            "Downloading data from https://storage.googleapis.com/tensorflow/tf-keras-datasets/t10k-images-idx3-ubyte.gz\n",
            "4423680/4422102 [==============================] - 0s 0us/step\n",
            "4431872/4422102 [==============================] - 0s 0us/step\n"
          ]
        }
      ],
      "source": [
        "fashion_mnist = keras.datasets.fashion_mnist #mnist : 숫자 필기를 이미지화해서 다룬 데이터 / fashion_mnist는 의류를 다루는 저장된 이미지 데이터\n",
        "(X_train_full, y_train_full), (X_test, y_test) = fashion_mnist.load_data() #train과 test는 같이 다루지 않는다"
      ]
    },
    {
      "cell_type": "code",
      "execution_count": null,
      "metadata": {
        "colab": {
          "base_uri": "https://localhost:8080/"
        },
        "id": "DF3KEQJDyYjk",
        "outputId": "16784adb-62e0-421b-89c6-d694cd0fb1d9"
      },
      "outputs": [
        {
          "output_type": "stream",
          "name": "stdout",
          "text": [
            "(60000, 28, 28)\n",
            "uint8\n",
            "(60000,)\n",
            "uint8\n"
          ]
        }
      ],
      "source": [
        "print(X_train_full.shape) #훈련 세트는 60000개의 흑백 이미지이며 각 이미지의 크기는 28x28 픽셀\n",
        "print(X_train_full.dtype) #각 픽셀의 강도는 바이트(0~255)로 표현\n",
        "print(y_train_full.shape)\n",
        "print(y_train_full.dtype)"
      ]
    },
    {
      "cell_type": "code",
      "execution_count": null,
      "metadata": {
        "id": "g-DWwnbXyYlt"
      },
      "outputs": [],
      "source": [
        "#전체 train 세트를 5000개 기준으로 test 세트와 더 작은 train 세트 valid로 나눈다\n",
        "X_valid, X_train = X_train_full[:5000] / 255.0, X_train_full[5000:] / 255.0 #픽셀 강도를 255로 나누어 0~1 범위의 실수로 변경(정규화)\n",
        "y_valid, y_train = y_train_full[:5000], y_train_full[5000:] #y는 카테고리에 대한 정답을 갖고 있으므로 정규화 안 한다\n",
        "X_test = X_test / 255.0"
      ]
    },
    {
      "cell_type": "code",
      "source": [
        "import matplotlib.pyplot as plt\n",
        "\n",
        "plt.imshow(X_train[0], cmap=\"binary\") #imshow() 함수와 'binary' 컬러맵을 사용해 이미지를 출력\n",
        "plt.axis('off')\n",
        "plt.show()"
      ],
      "metadata": {
        "colab": {
          "base_uri": "https://localhost:8080/",
          "height": 248
        },
        "id": "G9A-lNsT8E_P",
        "outputId": "c221f558-a474-4ce6-b85c-1f252c5ba8ad"
      },
      "execution_count": null,
      "outputs": [
        {
          "output_type": "display_data",
          "data": {
            "text/plain": [
              "<Figure size 432x288 with 1 Axes>"
            ],
            "image/png": "[encoded data removed]"
          },
          "metadata": {
            "needs_background": "light"
          }
        }
      ]
    },
    {
      "cell_type": "code",
      "source": [
        "y_train #레이블은 0에서 9까지 (uint8로 표현된) 클래스 아이디"
      ],
      "metadata": {
        "colab": {
          "base_uri": "https://localhost:8080/"
        },
        "id": "_Ed-K72c80Kf",
        "outputId": "03f3dd87-b82b-467d-80e1-059a74ff99f2"
      },
      "execution_count": null,
      "outputs": [
        {
          "output_type": "execute_result",
          "data": {
            "text/plain": [
              "array([4, 0, 7, ..., 3, 0, 5], dtype=uint8)"
            ]
          },
          "metadata": {},
          "execution_count": 6
        }
      ]
    },
    {
      "cell_type": "code",
      "execution_count": null,
      "metadata": {
        "colab": {
          "base_uri": "https://localhost:8080/",
          "height": 35
        },
        "id": "Jtnl1NWXyYn_",
        "outputId": "2e52c914-3d41-4d15-868d-a04c77296759"
      },
      "outputs": [
        {
          "output_type": "execute_result",
          "data": {
            "text/plain": [
              "'Coat'"
            ],
            "application/vnd.google.colaboratory.intrinsic+json": {
              "type": "string"
            }
          },
          "metadata": {},
          "execution_count": 7
        }
      ],
      "source": [
        "class_names = [\"T-shirt/top\", \"Trouser\", \"Pullover\", \"Dress\", \"Coat\", \"Sandal\", \"Shirt\", \"Sneaker\", \"Bag\", \"Ankle boot\"] #클래스 이름 지정. 0~9까지 저장\n",
        "class_names[y_train[0]] #훈련 세트에 있는 첫 번째 이미지"
      ]
    },
    {
      "cell_type": "code",
      "source": [
        "print(X_valid.shape) #검증 세트는 5000개의 이미지를 가진다\n",
        "print(X_test.shape) #테스트 세트는 10000개의 이미지를 가진다"
      ],
      "metadata": {
        "colab": {
          "base_uri": "https://localhost:8080/"
        },
        "id": "dXSDJROG9SK5",
        "outputId": "214a5142-7adb-4b0a-b474-216de9e216ea"
      },
      "execution_count": null,
      "outputs": [
        {
          "output_type": "stream",
          "name": "stdout",
          "text": [
            "(5000, 28, 28)\n",
            "(10000, 28, 28)\n"
          ]
        }
      ]
    },
    {
      "cell_type": "code",
      "source": [
        "#데이터셋에 있는 샘플 이미지 출력\n",
        "n_rows = 4\n",
        "n_cols = 10\n",
        "plt.figure(figsize=(n_cols * 1.2, n_rows * 1.2))\n",
        "for row in range(n_rows):\n",
        "    for col in range(n_cols):\n",
        "        index = n_cols * row + col\n",
        "        plt.subplot(n_rows, n_cols, index + 1)\n",
        "        plt.imshow(X_train[index], cmap=\"binary\", interpolation=\"nearest\")\n",
        "        plt.axis('off')\n",
        "        plt.title(class_names[y_train[index]], fontsize=12)\n",
        "plt.subplots_adjust(wspace=0.2, hspace=0.5)\n",
        "plt.show()"
      ],
      "metadata": {
        "colab": {
          "base_uri": "https://localhost:8080/",
          "height": 308
        },
        "id": "IUxopwXR9mkw",
        "outputId": "cc04bc00-149c-485d-ff06-ca3d013298d5"
      },
      "execution_count": null,
      "outputs": [
        {
          "output_type": "display_data",
          "data": {
            "text/plain": [
              "<Figure size 864x345.6 with 40 Axes>"
            ],
            "image/png": "[encoded data removed]"
          },
          "metadata": {
            "needs_background": "light"
          }
        }
      ]
    },
    {
      "cell_type": "code",
      "execution_count": null,
      "metadata": {
        "colab": {
          "base_uri": "https://localhost:8080/"
        },
        "id": "h89V9eIsyYqe",
        "outputId": "ec46cc73-e23d-40d0-df98-47c4e8043b38"
      },
      "outputs": [
        {
          "output_type": "stream",
          "name": "stdout",
          "text": [
            "Model: \"sequential\"\n",
            "_________________________________________________________________\n",
            " Layer (type)                Output Shape              Param #   \n",
            "=================================================================\n",
            " flatten (Flatten)           (None, 784)               0         \n",
            "                                                                 \n",
            " dense (Dense)               (None, 300)               235500    \n",
            "                                                                 \n",
            " dense_1 (Dense)             (None, 100)               30100     \n",
            "                                                                 \n",
            " dense_2 (Dense)             (None, 10)                1010      \n",
            "                                                                 \n",
            "=================================================================\n",
            "Total params: 266,610\n",
            "Trainable params: 266,610\n",
            "Non-trainable params: 0\n",
            "_________________________________________________________________\n"
          ]
        }
      ],
      "source": [
        "#모델 정의\n",
        "model = keras.models.Sequential() #sequential인지 functinal인지 선언\n",
        "model.add(keras.layers.Flatten(input_shape=[28, 28])) #입력층에 저장된 메트릭스 형태(여기서는 28x28 배열)를 한 줄의 벡터로 저장.\n",
        "model.add(keras.layers.Dense(300, activation=\"relu\")) #위에서 아래로 하나씩 레이어가 저장된다 activation : 활성화 함수\n",
        "model.add(keras.layers.Dense(100, activation=\"relu\")) #숫자는 각 레이어의 퍼셉트론 갯수를 의미. relu : 경사함수\n",
        "model.add(keras.layers.Dense(10, activation=\"softmax\")) #softmax는 확률분포와 같음. 다른 뉴런의 출력값과 상대적인 비교를 통해 최종 출력값 결정. 신경망의 최종단에 사용하면 해당 값이 나올 확률을 알 수 있음.\n",
        "model.summary() #784에 +1한 값인 785x300 - 235500 / 301x100 = 30100 / 101x10 = 1010"
      ]
    },
    {
      "cell_type": "code",
      "execution_count": null,
      "metadata": {
        "colab": {
          "base_uri": "https://localhost:8080/"
        },
        "id": "-EWVciYPyYsx",
        "outputId": "fcebf554-7c42-402f-c17b-23c1dd880af9"
      },
      "outputs": [
        {
          "output_type": "stream",
          "name": "stdout",
          "text": [
            "Model: \"sequential_1\"\n",
            "_________________________________________________________________\n",
            " Layer (type)                Output Shape              Param #   \n",
            "=================================================================\n",
            " flatten_1 (Flatten)         (None, 784)               0         \n",
            "                                                                 \n",
            " dense_3 (Dense)             (None, 300)               235500    \n",
            "                                                                 \n",
            " dense_4 (Dense)             (None, 100)               30100     \n",
            "                                                                 \n",
            " dense_5 (Dense)             (None, 10)                1010      \n",
            "                                                                 \n",
            "=================================================================\n",
            "Total params: 266,610\n",
            "Trainable params: 266,610\n",
            "Non-trainable params: 0\n",
            "_________________________________________________________________\n"
          ]
        }
      ],
      "source": [
        "model = keras.models.Sequential([\n",
        "  keras.layers.Flatten(input_shape=[28, 28]),\n",
        "  keras.layers.Dense(300, activation=\"relu\"),\n",
        "  keras.layers.Dense(100, activation=\"relu\"),\n",
        "  keras.layers.Dense(10, activation=\"softmax\")\n",
        "]) #model에 레이어 저장하는 방법을 리스트로 작성\n",
        "model.summary() #위에와 같이 출력. flatten과 dense가 한 번씩 더 쌓여서 layer 이름에 숫자가 하나씩 올라서 출력된다"
      ]
    },
    {
      "cell_type": "code",
      "execution_count": null,
      "metadata": {
        "colab": {
          "base_uri": "https://localhost:8080/"
        },
        "id": "BouHky14yYvk",
        "outputId": "d389ad22-fdb2-4d67-8011-c335d5953e20"
      },
      "outputs": [
        {
          "output_type": "execute_result",
          "data": {
            "text/plain": [
              "[<keras.layers.core.flatten.Flatten at 0x7fe633ca59d0>,\n",
              " <keras.layers.core.dense.Dense at 0x7fe633ca5210>,\n",
              " <keras.layers.core.dense.Dense at 0x7fe633ca5750>,\n",
              " <keras.layers.core.dense.Dense at 0x7fe6203c60d0>]"
            ]
          },
          "metadata": {},
          "execution_count": 12
        }
      ],
      "source": [
        "model.layers #레이어들이 리스트로 저장됨"
      ]
    },
    {
      "cell_type": "code",
      "execution_count": null,
      "metadata": {
        "colab": {
          "base_uri": "https://localhost:8080/"
        },
        "id": "KjQrOmXx08NK",
        "outputId": "506a60ae-dd35-4496-a54e-a060cc98791f"
      },
      "outputs": [
        {
          "output_type": "stream",
          "name": "stdout",
          "text": [
            "dense_3\n",
            "True\n"
          ]
        }
      ],
      "source": [
        "hidden1 = model.layers[1] #레이어를 인덱싱해서 활용 가능\n",
        "print(hidden1.name) #레이어의 변수명 출력\n",
        "print(model.get_layer('dense_3') is hidden1) #변수명을 get_layer을 통해 호출 가능"
      ]
    },
    {
      "cell_type": "code",
      "execution_count": null,
      "metadata": {
        "colab": {
          "base_uri": "https://localhost:8080/"
        },
        "id": "ZNKzIofV08Pc",
        "outputId": "1b90a7fc-f94e-4d6f-b328-81dfec97d8be"
      },
      "outputs": [
        {
          "output_type": "execute_result",
          "data": {
            "text/plain": [
              "array([[-0.04242705, -0.07005557,  0.05965023, ..., -0.05211371,\n",
              "        -0.06261846, -0.05320416],\n",
              "       [-0.03558205,  0.01073115,  0.06220414, ..., -0.06792118,\n",
              "         0.0710997 , -0.01752413],\n",
              "       [ 0.06828944, -0.06382683,  0.04461297, ..., -0.07273125,\n",
              "        -0.05423257,  0.03372113],\n",
              "       ...,\n",
              "       [-0.07100876, -0.02985425, -0.06294054, ..., -0.05260978,\n",
              "        -0.01924611,  0.01314706],\n",
              "       [-0.06871799, -0.07414382,  0.01147825, ...,  0.00253203,\n",
              "         0.05652745,  0.05564766],\n",
              "       [-0.03000848, -0.00059082, -0.00495096, ...,  0.070419  ,\n",
              "        -0.04304771,  0.05569641]], dtype=float32)"
            ]
          },
          "metadata": {},
          "execution_count": 14
        }
      ],
      "source": [
        "weights, biases = hidden1.get_weights() #레이어에 해당하는 실제 파라미터 값 반환\n",
        "weights #weight와 bias가 모여서 layer 구성, layer들이 모여서 model 구성"
      ]
    },
    {
      "cell_type": "code",
      "execution_count": null,
      "metadata": {
        "colab": {
          "base_uri": "https://localhost:8080/"
        },
        "id": "-b5poWN008Ri",
        "outputId": "541d0e16-8eb3-4b14-ed01-c03c6dc1137e"
      },
      "outputs": [
        {
          "output_type": "execute_result",
          "data": {
            "text/plain": [
              "(784, 300)"
            ]
          },
          "metadata": {},
          "execution_count": 15
        }
      ],
      "source": [
        "weights.shape #입력층~은닉층"
      ]
    },
    {
      "cell_type": "code",
      "execution_count": null,
      "metadata": {
        "colab": {
          "base_uri": "https://localhost:8080/"
        },
        "id": "62d9yn2ByYx4",
        "outputId": "a670e8af-9de2-41fd-eda0-97b5f9d9e5d5"
      },
      "outputs": [
        {
          "output_type": "stream",
          "name": "stdout",
          "text": [
            "[0. 0. 0. 0. 0. 0. 0. 0. 0. 0. 0. 0. 0. 0. 0. 0. 0. 0. 0. 0. 0. 0. 0. 0.\n",
            " 0. 0. 0. 0. 0. 0. 0. 0. 0. 0. 0. 0. 0. 0. 0. 0. 0. 0. 0. 0. 0. 0. 0. 0.\n",
            " 0. 0. 0. 0. 0. 0. 0. 0. 0. 0. 0. 0. 0. 0. 0. 0. 0. 0. 0. 0. 0. 0. 0. 0.\n",
            " 0. 0. 0. 0. 0. 0. 0. 0. 0. 0. 0. 0. 0. 0. 0. 0. 0. 0. 0. 0. 0. 0. 0. 0.\n",
            " 0. 0. 0. 0. 0. 0. 0. 0. 0. 0. 0. 0. 0. 0. 0. 0. 0. 0. 0. 0. 0. 0. 0. 0.\n",
            " 0. 0. 0. 0. 0. 0. 0. 0. 0. 0. 0. 0. 0. 0. 0. 0. 0. 0. 0. 0. 0. 0. 0. 0.\n",
            " 0. 0. 0. 0. 0. 0. 0. 0. 0. 0. 0. 0. 0. 0. 0. 0. 0. 0. 0. 0. 0. 0. 0. 0.\n",
            " 0. 0. 0. 0. 0. 0. 0. 0. 0. 0. 0. 0. 0. 0. 0. 0. 0. 0. 0. 0. 0. 0. 0. 0.\n",
            " 0. 0. 0. 0. 0. 0. 0. 0. 0. 0. 0. 0. 0. 0. 0. 0. 0. 0. 0. 0. 0. 0. 0. 0.\n",
            " 0. 0. 0. 0. 0. 0. 0. 0. 0. 0. 0. 0. 0. 0. 0. 0. 0. 0. 0. 0. 0. 0. 0. 0.\n",
            " 0. 0. 0. 0. 0. 0. 0. 0. 0. 0. 0. 0. 0. 0. 0. 0. 0. 0. 0. 0. 0. 0. 0. 0.\n",
            " 0. 0. 0. 0. 0. 0. 0. 0. 0. 0. 0. 0. 0. 0. 0. 0. 0. 0. 0. 0. 0. 0. 0. 0.\n",
            " 0. 0. 0. 0. 0. 0. 0. 0. 0. 0. 0. 0.]\n",
            "(300,)\n"
          ]
        }
      ],
      "source": [
        "print(biases)\n",
        "print(biases.shape)"
      ]
    },
    {
      "cell_type": "code",
      "execution_count": null,
      "metadata": {
        "id": "M9rtpXf8yYzt"
      },
      "outputs": [],
      "source": [
        "model.compile(loss=\"sparse_categorical_crossentropy\", #loss function 정의\n",
        "              optimizer=\"sgd\", #그레디언트를 사용할 건지 변형된 것을 사용할 건지 최적화에 사용할 것 정의\n",
        "              metrics=[\"accuracy\"]) #컴파일 구조 결정"
      ]
    },
    {
      "cell_type": "code",
      "execution_count": null,
      "metadata": {
        "colab": {
          "base_uri": "https://localhost:8080/"
        },
        "id": "gH1p-nSz1veq",
        "outputId": "81cf5f55-9b55-444e-d6e7-0bb45f72c648"
      },
      "outputs": [
        {
          "output_type": "stream",
          "name": "stdout",
          "text": [
            "Epoch 1/30\n",
            "1719/1719 [==============================] - 7s 3ms/step - loss: 0.7203 - accuracy: 0.7633 - val_loss: 0.5185 - val_accuracy: 0.8252\n",
            "Epoch 2/30\n",
            "1719/1719 [==============================] - 5s 3ms/step - loss: 0.4904 - accuracy: 0.8297 - val_loss: 0.4566 - val_accuracy: 0.8454\n",
            "Epoch 3/30\n",
            "1719/1719 [==============================] - 5s 3ms/step - loss: 0.4438 - accuracy: 0.8450 - val_loss: 0.4184 - val_accuracy: 0.8576\n",
            "Epoch 4/30\n",
            "1719/1719 [==============================] - 5s 3ms/step - loss: 0.4162 - accuracy: 0.8543 - val_loss: 0.4083 - val_accuracy: 0.8584\n",
            "Epoch 5/30\n",
            "1719/1719 [==============================] - 4s 3ms/step - loss: 0.3972 - accuracy: 0.8610 - val_loss: 0.3853 - val_accuracy: 0.8650\n",
            "Epoch 6/30\n",
            "1719/1719 [==============================] - 5s 3ms/step - loss: 0.3822 - accuracy: 0.8663 - val_loss: 0.3801 - val_accuracy: 0.8656\n",
            "Epoch 7/30\n",
            "1719/1719 [==============================] - 5s 3ms/step - loss: 0.3673 - accuracy: 0.8702 - val_loss: 0.3643 - val_accuracy: 0.8718\n",
            "Epoch 8/30\n",
            "1719/1719 [==============================] - 5s 3ms/step - loss: 0.3565 - accuracy: 0.8732 - val_loss: 0.3546 - val_accuracy: 0.8774\n",
            "Epoch 9/30\n",
            "1719/1719 [==============================] - 5s 3ms/step - loss: 0.3466 - accuracy: 0.8763 - val_loss: 0.3564 - val_accuracy: 0.8744\n",
            "Epoch 10/30\n",
            "1719/1719 [==============================] - 5s 3ms/step - loss: 0.3357 - accuracy: 0.8813 - val_loss: 0.3574 - val_accuracy: 0.8750\n",
            "Epoch 11/30\n",
            "1719/1719 [==============================] - 5s 3ms/step - loss: 0.3287 - accuracy: 0.8828 - val_loss: 0.3512 - val_accuracy: 0.8782\n",
            "Epoch 12/30\n",
            "1719/1719 [==============================] - 5s 3ms/step - loss: 0.3209 - accuracy: 0.8864 - val_loss: 0.3352 - val_accuracy: 0.8818\n",
            "Epoch 13/30\n",
            "1719/1719 [==============================] - 5s 3ms/step - loss: 0.3126 - accuracy: 0.8893 - val_loss: 0.3249 - val_accuracy: 0.8864\n",
            "Epoch 14/30\n",
            "1719/1719 [==============================] - 5s 3ms/step - loss: 0.3058 - accuracy: 0.8898 - val_loss: 0.3201 - val_accuracy: 0.8850\n",
            "Epoch 15/30\n",
            "1719/1719 [==============================] - 5s 3ms/step - loss: 0.2989 - accuracy: 0.8932 - val_loss: 0.3288 - val_accuracy: 0.8848\n",
            "Epoch 16/30\n",
            "1719/1719 [==============================] - 5s 3ms/step - loss: 0.2926 - accuracy: 0.8947 - val_loss: 0.3366 - val_accuracy: 0.8786\n",
            "Epoch 17/30\n",
            "1719/1719 [==============================] - 5s 3ms/step - loss: 0.2868 - accuracy: 0.8963 - val_loss: 0.3352 - val_accuracy: 0.8784\n",
            "Epoch 18/30\n",
            "1719/1719 [==============================] - 5s 3ms/step - loss: 0.2810 - accuracy: 0.8987 - val_loss: 0.3290 - val_accuracy: 0.8808\n",
            "Epoch 19/30\n",
            "1719/1719 [==============================] - 5s 3ms/step - loss: 0.2763 - accuracy: 0.9009 - val_loss: 0.3110 - val_accuracy: 0.8892\n",
            "Epoch 20/30\n",
            "1719/1719 [==============================] - 5s 3ms/step - loss: 0.2714 - accuracy: 0.9022 - val_loss: 0.3260 - val_accuracy: 0.8814\n",
            "Epoch 21/30\n",
            "1719/1719 [==============================] - 5s 3ms/step - loss: 0.2665 - accuracy: 0.9032 - val_loss: 0.3298 - val_accuracy: 0.8816\n",
            "Epoch 22/30\n",
            "1719/1719 [==============================] - 5s 3ms/step - loss: 0.2624 - accuracy: 0.9055 - val_loss: 0.3170 - val_accuracy: 0.8836\n",
            "Epoch 23/30\n",
            "1719/1719 [==============================] - 4s 3ms/step - loss: 0.2558 - accuracy: 0.9083 - val_loss: 0.3253 - val_accuracy: 0.8844\n",
            "Epoch 24/30\n",
            "1719/1719 [==============================] - 5s 3ms/step - loss: 0.2521 - accuracy: 0.9096 - val_loss: 0.3041 - val_accuracy: 0.8900\n",
            "Epoch 25/30\n",
            "1719/1719 [==============================] - 5s 3ms/step - loss: 0.2483 - accuracy: 0.9098 - val_loss: 0.3012 - val_accuracy: 0.8930\n",
            "Epoch 26/30\n",
            "1719/1719 [==============================] - 5s 3ms/step - loss: 0.2440 - accuracy: 0.9127 - val_loss: 0.3019 - val_accuracy: 0.8970\n",
            "Epoch 27/30\n",
            "1719/1719 [==============================] - 5s 3ms/step - loss: 0.2401 - accuracy: 0.9138 - val_loss: 0.3048 - val_accuracy: 0.8924\n",
            "Epoch 28/30\n",
            "1719/1719 [==============================] - 5s 3ms/step - loss: 0.2360 - accuracy: 0.9147 - val_loss: 0.3006 - val_accuracy: 0.8926\n",
            "Epoch 29/30\n",
            "1719/1719 [==============================] - 5s 3ms/step - loss: 0.2319 - accuracy: 0.9167 - val_loss: 0.2906 - val_accuracy: 0.8964\n",
            "Epoch 30/30\n",
            "1719/1719 [==============================] - 5s 3ms/step - loss: 0.2279 - accuracy: 0.9177 - val_loss: 0.2942 - val_accuracy: 0.8964\n"
          ]
        }
      ],
      "source": [
        "#모델 훈련 및 평가. fit은 훈련 predict는 평가. 여기서 평가는 valid로 한다.\n",
        "history = model.fit(X_train, y_train, epochs=30,\n",
        "                    validation_data=(X_valid, y_valid)) #30번 실행 시 loss가 점점 줄어들고 이 값이 작을수록 좋다. validation_data를 통해 정상적으로 훈련되는지 확인 가능.ㄴ"
      ]
    },
    {
      "cell_type": "code",
      "source": [
        "import pandas as pd\n",
        "\n",
        "pd.DataFrame(history.history).plot(figsize=(8,5))\n",
        "plt.grid(True)\n",
        "plt.gca().set_ylim(0,1) #수직축의 범위를 [0-1]사이로 설정\n",
        "plt.show()"
      ],
      "metadata": {
        "colab": {
          "base_uri": "https://localhost:8080/",
          "height": 324
        },
        "id": "KnJ4ZpfV3pyq",
        "outputId": "dc4737fd-05a7-4744-d1c8-aaebe10cd8cb"
      },
      "execution_count": null,
      "outputs": [
        {
          "output_type": "display_data",
          "data": {
            "text/plain": [
              "<Figure size 576x360 with 1 Axes>"
            ],
            "image/png": "[encoded data removed]"
          },
          "metadata": {
            "needs_background": "light"
          }
        }
      ]
    },
    {
      "cell_type": "code",
      "source": [
        "model.evaluate(X_test, y_test) #validation_data 없이 시행해서 진짜 성적에 더 가까움. 88%가 이 모델의 최종 성능이 되는 것"
      ],
      "metadata": {
        "colab": {
          "base_uri": "https://localhost:8080/"
        },
        "id": "AV4WFVFB3p1G",
        "outputId": "d8b29d0b-5a9a-4f1c-a85d-6269d699b69c"
      },
      "execution_count": null,
      "outputs": [
        {
          "output_type": "stream",
          "name": "stdout",
          "text": [
            "313/313 [==============================] - 1s 2ms/step - loss: 0.3259 - accuracy: 0.8842\n"
          ]
        },
        {
          "output_type": "execute_result",
          "data": {
            "text/plain": [
              "[0.32588037848472595, 0.8841999769210815]"
            ]
          },
          "metadata": {},
          "execution_count": 20
        }
      ]
    },
    {
      "cell_type": "code",
      "source": [
        "#모델이 잘 되나 훈련한 모델을 사용한 예측\n",
        "X_new = X_test[:3] #X_test에서 0, 1, 2값만 우선 확인\n",
        "y_proba = model.predict(X_new) #확률값\n",
        "y_proba.round(2) #소수 둘째자리까지만 보자. "
      ],
      "metadata": {
        "colab": {
          "base_uri": "https://localhost:8080/"
        },
        "id": "cBHYdZIY3p3W",
        "outputId": "3fdeffbb-b59f-46ef-82bd-fadd0fa07162"
      },
      "execution_count": null,
      "outputs": [
        {
          "output_type": "execute_result",
          "data": {
            "text/plain": [
              "array([[0.  , 0.  , 0.  , 0.  , 0.  , 0.  , 0.  , 0.  , 0.  , 0.99],\n",
              "       [0.  , 0.  , 1.  , 0.  , 0.  , 0.  , 0.  , 0.  , 0.  , 0.  ],\n",
              "       [0.  , 1.  , 0.  , 0.  , 0.  , 0.  , 0.  , 0.  , 0.  , 0.  ]],\n",
              "      dtype=float32)"
            ]
          },
          "metadata": {},
          "execution_count": 21
        }
      ]
    },
    {
      "cell_type": "code",
      "source": [
        "import numpy as np\n",
        "\n",
        "y_pred = np.argmax(model.predict(X_new), axis=-1) #tensorflow 버전 2.6이후로 predict_classes가 없기 때문에 오류가 발생하므로 다른 방법으로 다중분류\n",
        "y_pred"
      ],
      "metadata": {
        "colab": {
          "base_uri": "https://localhost:8080/"
        },
        "id": "2RKnN42Z3p5o",
        "outputId": "02870f1a-723a-4d49-ed1b-02b8444a1c48"
      },
      "execution_count": null,
      "outputs": [
        {
          "output_type": "execute_result",
          "data": {
            "text/plain": [
              "array([9, 2, 1])"
            ]
          },
          "metadata": {},
          "execution_count": 22
        }
      ]
    },
    {
      "cell_type": "code",
      "source": [
        "np.array(class_names)[y_pred]"
      ],
      "metadata": {
        "colab": {
          "base_uri": "https://localhost:8080/"
        },
        "id": "2Gettt3w3p7m",
        "outputId": "4efdbe2d-6fa1-437e-c562-5c403e33e45b"
      },
      "execution_count": null,
      "outputs": [
        {
          "output_type": "execute_result",
          "data": {
            "text/plain": [
              "array(['Ankle boot', 'Pullover', 'Trouser'], dtype='<U11')"
            ]
          },
          "metadata": {},
          "execution_count": 24
        }
      ]
    },
    {
      "cell_type": "code",
      "source": [
        "plt.figure(figsize=(7.2, 2.4)) #인덱스에 맞춘 그림과 표현\n",
        "for index, image in enumerate(X_new):\n",
        "    plt.subplot(1, 3, index + 1)\n",
        "    plt.imshow(image, cmap=\"binary\", interpolation=\"nearest\")\n",
        "    plt.axis('off')\n",
        "    plt.title(class_names[y_test[index]], fontsize=12)\n",
        "plt.subplots_adjust(wspace=0.2, hspace=0.5)\n",
        "plt.show()"
      ],
      "metadata": {
        "colab": {
          "base_uri": "https://localhost:8080/",
          "height": 165
        },
        "id": "BrtmiHSFNKQT",
        "outputId": "e529d709-5391-41c6-e639-712270aff76e"
      },
      "execution_count": null,
      "outputs": [
        {
          "output_type": "display_data",
          "data": {
            "text/plain": [
              "<Figure size 518.4x172.8 with 3 Axes>"
            ],
            "image/png": "[encoded data removed]"
          },
          "metadata": {
            "needs_background": "light"
          }
        }
      ]
    },
    {
      "cell_type": "code",
      "source": [
        "y_new = y_test[:3]\n",
        "y_new"
      ],
      "metadata": {
        "colab": {
          "base_uri": "https://localhost:8080/"
        },
        "id": "kUatry8D3p9h",
        "outputId": "91042913-ed64-4d2b-9e28-876d5a23ad06"
      },
      "execution_count": null,
      "outputs": [
        {
          "output_type": "execute_result",
          "data": {
            "text/plain": [
              "array([9, 2, 1], dtype=uint8)"
            ]
          },
          "metadata": {},
          "execution_count": 26
        }
      ]
    }
  ],
  "metadata": {
    "accelerator": "GPU",
    "colab": {
      "provenance": [],
      "collapsed_sections": [],
      "authorship_tag": "ABX9TyN30VGBqGLGnPV6t+zK9rSs",
      "include_colab_link": true
    },
    "kernelspec": {
      "display_name": "Python 3",
      "name": "python3"
    },
    "language_info": {
      "name": "python"
    }
  },
  "nbformat": 4,
  "nbformat_minor": 0
}
