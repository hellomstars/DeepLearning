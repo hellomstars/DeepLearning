{
  "nbformat": 4,
  "nbformat_minor": 0,
  "metadata": {
    "colab": {
      "provenance": [],
      "authorship_tag": "ABX9TyO2ZpQruwAtNw5B/UEjf89/",
      "include_colab_link": true
    },
    "kernelspec": {
      "name": "python3",
      "display_name": "Python 3"
    },
    "language_info": {
      "name": "python"
    },
    "accelerator": "GPU",
    "gpuClass": "standard"
  },
  "cells": [
    {
      "cell_type": "markdown",
      "metadata": {
        "id": "view-in-github",
        "colab_type": "text"
      },
      "source": [
        "<a href=\"https://colab.research.google.com/github/hellomstars/DeepLearning/blob/main/RNN.ipynb\" target=\"_parent\"><img src=\"https://colab.research.google.com/assets/colab-badge.svg\" alt=\"Open In Colab\"/></a>"
      ]
    },
    {
      "cell_type": "markdown",
      "source": [
        "# RNN을 사용한 시퀀스 처리 \n",
        "- Time series 예측"
      ],
      "metadata": {
        "id": "iU9r-kBXpT2e"
      }
    },
    {
      "cell_type": "code",
      "source": [
        "# 필요한 모듈 임포트트\n",
        "import sklearn\n",
        "import tensorflow as tf\n",
        "from tensorflow import keras\n",
        "\n",
        "import numpy as np\n",
        "import os\n",
        "from pathlib import Path\n",
        "\n",
        "# 노트북 실행 결과를 동일하게 유지하기 위해\n",
        "np.random.seed(42)\n",
        "tf.random.set_seed(42)\n",
        "\n",
        "# 깔끔한 그래프 출력을 위해\n",
        "%matplotlib inline\n",
        "import matplotlib as mpl\n",
        "import matplotlib.pyplot as plt\n",
        "mpl.rc('axes', labelsize=14)\n",
        "mpl.rc('xtick', labelsize=12)\n",
        "mpl.rc('ytick', labelsize=12)"
      ],
      "metadata": {
        "id": "WBRGBuWYVysV"
      },
      "execution_count": 1,
      "outputs": []
    },
    {
      "cell_type": "markdown",
      "source": [
        "## 기본적인 RNN"
      ],
      "metadata": {
        "id": "ZZla3bSWWW4X"
      }
    },
    {
      "cell_type": "markdown",
      "source": [
        "### 데이터셋 생성"
      ],
      "metadata": {
        "id": "FsCitPM7Wbvl"
      }
    },
    {
      "cell_type": "code",
      "source": [
        "def generate_time_series(batch_size, n_steps):\n",
        "    freq1, freq2, offsets1, offsets2 = np.random.rand(4, batch_size, 1)\n",
        "    time = np.linspace(0, 1, n_steps)\n",
        "    series = 0.5 * np.sin((time - offsets1) * (freq1 * 10 + 10))  #   사인곡선 1\n",
        "    series += 0.2 * np.sin((time - offsets2) * (freq2 * 20 + 20)) # + 사인곡선 2\n",
        "    series += 0.1 * (np.random.rand(batch_size, n_steps) - 0.5)   # + 잡음\n",
        "    return series[..., np.newaxis].astype(np.float32)"
      ],
      "metadata": {
        "id": "exdxJxJKWeaW"
      },
      "execution_count": 2,
      "outputs": []
    },
    {
      "cell_type": "code",
      "source": [
        "np.random.seed(42)\n",
        "\n",
        "n_steps = 50\n",
        "series = generate_time_series(10000, n_steps + 1)\n",
        "X_train, y_train = series[:7000, :n_steps], series[:7000, -1]\n",
        "X_valid, y_valid = series[7000:9000, :n_steps], series[7000:9000, -1]\n",
        "X_test, y_test = series[9000:, :n_steps], series[9000:, -1]"
      ],
      "metadata": {
        "id": "SD8RTirRWgqK"
      },
      "execution_count": 3,
      "outputs": []
    },
    {
      "cell_type": "code",
      "source": [
        "X_train.shape, y_train.shape"
      ],
      "metadata": {
        "colab": {
          "base_uri": "https://localhost:8080/"
        },
        "id": "hQyGEywfWgsW",
        "outputId": "5434f0ea-6e6f-4944-b475-2d50bff40a67"
      },
      "execution_count": 4,
      "outputs": [
        {
          "output_type": "execute_result",
          "data": {
            "text/plain": [
              "((7000, 50, 1), (7000, 1))"
            ]
          },
          "metadata": {},
          "execution_count": 4
        }
      ]
    },
    {
      "cell_type": "code",
      "source": [
        "# 타킷 그래프 출력\n",
        "def plot_series(series, y=None, y_pred=None, x_label=\"$t$\", y_label=\"$x(t)$\", legend=True):\n",
        "    plt.plot(series, \".-\")\n",
        "    if y is not None:\n",
        "        plt.plot(n_steps, y, \"bo\", label=\"Target\")\n",
        "    if y_pred is not None:\n",
        "        plt.plot(n_steps, y_pred, \"rx\", markersize=10, label=\"Prediction\")\n",
        "    plt.grid(True)\n",
        "    if x_label:\n",
        "        plt.xlabel(x_label, fontsize=16)\n",
        "    if y_label:\n",
        "        plt.ylabel(y_label, fontsize=16, rotation=0)\n",
        "    plt.hlines(0, 0, 100, linewidth=1)\n",
        "    plt.axis([0, n_steps + 1, -1, 1])\n",
        "    if legend and (y or y_pred):\n",
        "        plt.legend(fontsize=14, loc=\"upper left\")\n",
        "\n",
        "fig, axes = plt.subplots(nrows=1, ncols=3, sharey=True, figsize=(12, 4))\n",
        "for col in range(3):\n",
        "    plt.sca(axes[col])\n",
        "    plot_series(X_valid[col, :, 0], y_valid[col, 0],\n",
        "                y_label=(\"$x(t)$\" if col==0 else None),\n",
        "                legend=(col == 0))\n",
        "\n",
        "plt.show()"
      ],
      "metadata": {
        "colab": {
          "base_uri": "https://localhost:8080/",
          "height": 293
        },
        "id": "S3qeqfzqWguy",
        "outputId": "47247e9e-ae10-43ae-af60-cfbb9d78ddbf"
      },
      "execution_count": 5,
      "outputs": [
        {
          "output_type": "display_data",
          "data": {
            "text/plain": [
              "<Figure size 864x288 with 3 Axes>"
            ],
            "image/png": "[encoded data removed]"
          },
          "metadata": {
            "needs_background": "light"
          }
        }
      ]
    },
    {
      "cell_type": "markdown",
      "source": [
        "### 기준 성능 계산하기"
      ],
      "metadata": {
        "id": "22EBszJRWr_P"
      }
    },
    {
      "cell_type": "code",
      "source": [
        "# 단순 예측(Naive forecasting) : 마지막 값을 그대로 사용해 예측 \n",
        "y_pred = X_valid[:, -1]\n",
        "np.mean(keras.losses.mean_squared_error(y_valid, y_pred))"
      ],
      "metadata": {
        "colab": {
          "base_uri": "https://localhost:8080/"
        },
        "id": "pntRI0GvWgw4",
        "outputId": "8cbd9544-bb94-47f2-efe9-d939420bb859"
      },
      "execution_count": 6,
      "outputs": [
        {
          "output_type": "execute_result",
          "data": {
            "text/plain": [
              "0.020211367"
            ]
          },
          "metadata": {},
          "execution_count": 6
        }
      ]
    },
    {
      "cell_type": "code",
      "source": [
        "plot_series(X_valid[0, :, 0], y_valid[0, 0], y_pred[0, 0])\n",
        "plt.show()"
      ],
      "metadata": {
        "colab": {
          "base_uri": "https://localhost:8080/",
          "height": 293
        },
        "id": "JVCQql8AWgzG",
        "outputId": "68821640-6738-4be9-d4b9-5a824f94bbef"
      },
      "execution_count": 7,
      "outputs": [
        {
          "output_type": "display_data",
          "data": {
            "text/plain": [
              "<Figure size 432x288 with 1 Axes>"
            ],
            "image/png": "[encoded data removed]"
          },
          "metadata": {
            "needs_background": "light"
          }
        }
      ]
    },
    {
      "cell_type": "code",
      "source": [
        "# 선형 예측(Linear regression)\n",
        "np.random.seed(42)\n",
        "tf.random.set_seed(42)\n",
        "\n",
        "model = keras.models.Sequential([\n",
        "    keras.layers.Flatten(input_shape=[50, 1]),\n",
        "    keras.layers.Dense(1)\n",
        "])\n",
        "\n",
        "# MSE loss, Adam optimizer 사용하여 epochs 20번 실행 \n",
        "model.compile(loss=\"mse\", optimizer=\"adam\")\n",
        "history = model.fit(X_train, y_train, epochs=20,\n",
        "                    validation_data=(X_valid, y_valid))"
      ],
      "metadata": {
        "colab": {
          "base_uri": "https://localhost:8080/"
        },
        "id": "tticp5UUWg1S",
        "outputId": "da85ddbf-aa99-49e1-8526-bf543495d54e"
      },
      "execution_count": 8,
      "outputs": [
        {
          "output_type": "stream",
          "name": "stdout",
          "text": [
            "Epoch 1/20\n",
            "219/219 [==============================] - 2s 3ms/step - loss: 0.1127 - val_loss: 0.0279\n",
            "Epoch 2/20\n",
            "219/219 [==============================] - 1s 5ms/step - loss: 0.0176 - val_loss: 0.0140\n",
            "Epoch 3/20\n",
            "219/219 [==============================] - 2s 8ms/step - loss: 0.0123 - val_loss: 0.0118\n",
            "Epoch 4/20\n",
            "219/219 [==============================] - 1s 6ms/step - loss: 0.0109 - val_loss: 0.0105\n",
            "Epoch 5/20\n",
            "219/219 [==============================] - 1s 5ms/step - loss: 0.0097 - val_loss: 0.0093\n",
            "Epoch 6/20\n",
            "219/219 [==============================] - 1s 5ms/step - loss: 0.0087 - val_loss: 0.0083\n",
            "Epoch 7/20\n",
            "219/219 [==============================] - 1s 6ms/step - loss: 0.0078 - val_loss: 0.0073\n",
            "Epoch 8/20\n",
            "219/219 [==============================] - 1s 6ms/step - loss: 0.0070 - val_loss: 0.0065\n",
            "Epoch 9/20\n",
            "219/219 [==============================] - 1s 4ms/step - loss: 0.0063 - val_loss: 0.0059\n",
            "Epoch 10/20\n",
            "219/219 [==============================] - 1s 4ms/step - loss: 0.0058 - val_loss: 0.0054\n",
            "Epoch 11/20\n",
            "219/219 [==============================] - 1s 4ms/step - loss: 0.0053 - val_loss: 0.0050\n",
            "Epoch 12/20\n",
            "219/219 [==============================] - 1s 5ms/step - loss: 0.0050 - val_loss: 0.0048\n",
            "Epoch 13/20\n",
            "219/219 [==============================] - 1s 5ms/step - loss: 0.0048 - val_loss: 0.0044\n",
            "Epoch 14/20\n",
            "219/219 [==============================] - 1s 4ms/step - loss: 0.0045 - val_loss: 0.0042\n",
            "Epoch 15/20\n",
            "219/219 [==============================] - 1s 6ms/step - loss: 0.0044 - val_loss: 0.0041\n",
            "Epoch 16/20\n",
            "219/219 [==============================] - 1s 3ms/step - loss: 0.0042 - val_loss: 0.0042\n",
            "Epoch 17/20\n",
            "219/219 [==============================] - 1s 3ms/step - loss: 0.0041 - val_loss: 0.0039\n",
            "Epoch 18/20\n",
            "219/219 [==============================] - 1s 3ms/step - loss: 0.0040 - val_loss: 0.0038\n",
            "Epoch 19/20\n",
            "219/219 [==============================] - 1s 3ms/step - loss: 0.0039 - val_loss: 0.0039\n",
            "Epoch 20/20\n",
            "219/219 [==============================] - 1s 3ms/step - loss: 0.0039 - val_loss: 0.0037\n"
          ]
        }
      ]
    },
    {
      "cell_type": "code",
      "source": [
        "model.evaluate(X_valid, y_valid)"
      ],
      "metadata": {
        "colab": {
          "base_uri": "https://localhost:8080/"
        },
        "id": "s0ZqnFw-Wg3i",
        "outputId": "e5ebfbe7-828a-4707-d2e5-cab923c02155"
      },
      "execution_count": 9,
      "outputs": [
        {
          "output_type": "stream",
          "name": "stdout",
          "text": [
            "63/63 [==============================] - 0s 2ms/step - loss: 0.0037\n"
          ]
        },
        {
          "output_type": "execute_result",
          "data": {
            "text/plain": [
              "0.0036768908612430096"
            ]
          },
          "metadata": {},
          "execution_count": 9
        }
      ]
    },
    {
      "cell_type": "code",
      "source": [
        "# 훈련한 모델의 loss 값 그래프 출력 \n",
        "def plot_learning_curves(loss, val_loss):\n",
        "    plt.plot(np.arange(len(loss)) + 0.5, loss, \"b.-\", label=\"Training loss\")\n",
        "    plt.plot(np.arange(len(val_loss)) + 1, val_loss, \"r.-\", label=\"Validation loss\")\n",
        "    plt.gca().xaxis.set_major_locator(mpl.ticker.MaxNLocator(integer=True))\n",
        "    plt.axis([1, 20, 0, 0.05])\n",
        "    plt.legend(fontsize=14)\n",
        "    plt.xlabel(\"Epochs\")\n",
        "    plt.ylabel(\"Loss\")\n",
        "    plt.grid(True)\n",
        "\n",
        "plot_learning_curves(history.history[\"loss\"], history.history[\"val_loss\"])\n",
        "plt.show()"
      ],
      "metadata": {
        "colab": {
          "base_uri": "https://localhost:8080/",
          "height": 291
        },
        "id": "axdwRD8vWg5l",
        "outputId": "80b7bbf4-1491-443f-e8f5-f61dba97fc64"
      },
      "execution_count": 10,
      "outputs": [
        {
          "output_type": "display_data",
          "data": {
            "text/plain": [
              "<Figure size 432x288 with 1 Axes>"
            ],
            "image/png": "[encoded data removed]"
          },
          "metadata": {
            "needs_background": "light"
          }
        }
      ]
    },
    {
      "cell_type": "code",
      "source": [
        "y_pred = model.predict(X_valid)\n",
        "plot_series(X_valid[0, :, 0], y_valid[0, 0], y_pred[0, 0])\n",
        "plt.show()"
      ],
      "metadata": {
        "colab": {
          "base_uri": "https://localhost:8080/",
          "height": 311
        },
        "id": "4Nug0UvHXOOB",
        "outputId": "8f3060c6-a081-4596-e8ef-410a44dcf97b"
      },
      "execution_count": 11,
      "outputs": [
        {
          "output_type": "stream",
          "name": "stdout",
          "text": [
            "63/63 [==============================] - 0s 1ms/step\n"
          ]
        },
        {
          "output_type": "display_data",
          "data": {
            "text/plain": [
              "<Figure size 432x288 with 1 Axes>"
            ],
            "image/png": "[encoded data removed]"
          },
          "metadata": {
            "needs_background": "light"
          }
        }
      ]
    },
    {
      "cell_type": "markdown",
      "source": [
        "## Simple RNN"
      ],
      "metadata": {
        "id": "_IsY8OnZXTW4"
      }
    },
    {
      "cell_type": "code",
      "source": [
        "np.random.seed(42)\n",
        "tf.random.set_seed(42)\n",
        "\n",
        "# Ssequence 길이를 지정하지 않아 none 입력\n",
        "model = keras.models.Sequential([\n",
        "    keras.layers.SimpleRNN(1, input_shape=[None, 1])\n",
        "])\n",
        "\n",
        "optimizer = keras.optimizers.Adam(learning_rate=0.005)\n",
        "model.compile(loss=\"mse\", optimizer=optimizer)\n",
        "history = model.fit(X_train, y_train, epochs=20,\n",
        "                    validation_data=(X_valid, y_valid))"
      ],
      "metadata": {
        "colab": {
          "base_uri": "https://localhost:8080/"
        },
        "id": "KciP1-tOXOQL",
        "outputId": "73c914d0-6670-4abe-e1b9-f175d947bbdc"
      },
      "execution_count": 12,
      "outputs": [
        {
          "output_type": "stream",
          "name": "stdout",
          "text": [
            "Epoch 1/20\n",
            "219/219 [==============================] - 12s 50ms/step - loss: 0.0979 - val_loss: 0.0476\n",
            "Epoch 2/20\n",
            "219/219 [==============================] - 7s 30ms/step - loss: 0.0363 - val_loss: 0.0292\n",
            "Epoch 3/20\n",
            "219/219 [==============================] - 7s 31ms/step - loss: 0.0251 - val_loss: 0.0216\n",
            "Epoch 4/20\n",
            "219/219 [==============================] - 7s 30ms/step - loss: 0.0197 - val_loss: 0.0176\n",
            "Epoch 5/20\n",
            "219/219 [==============================] - 7s 30ms/step - loss: 0.0165 - val_loss: 0.0150\n",
            "Epoch 6/20\n",
            "219/219 [==============================] - 7s 30ms/step - loss: 0.0145 - val_loss: 0.0134\n",
            "Epoch 7/20\n",
            "219/219 [==============================] - 8s 39ms/step - loss: 0.0132 - val_loss: 0.0123\n",
            "Epoch 8/20\n",
            "219/219 [==============================] - 6s 29ms/step - loss: 0.0124 - val_loss: 0.0116\n",
            "Epoch 9/20\n",
            "219/219 [==============================] - 6s 29ms/step - loss: 0.0118 - val_loss: 0.0112\n",
            "Epoch 10/20\n",
            "219/219 [==============================] - 9s 43ms/step - loss: 0.0116 - val_loss: 0.0110\n",
            "Epoch 11/20\n",
            "219/219 [==============================] - 11s 52ms/step - loss: 0.0114 - val_loss: 0.0109\n",
            "Epoch 12/20\n",
            "219/219 [==============================] - 8s 38ms/step - loss: 0.0114 - val_loss: 0.0109\n",
            "Epoch 13/20\n",
            "219/219 [==============================] - 7s 30ms/step - loss: 0.0114 - val_loss: 0.0109\n",
            "Epoch 14/20\n",
            "219/219 [==============================] - 7s 30ms/step - loss: 0.0114 - val_loss: 0.0109\n",
            "Epoch 15/20\n",
            "219/219 [==============================] - 6s 29ms/step - loss: 0.0114 - val_loss: 0.0109\n",
            "Epoch 16/20\n",
            "219/219 [==============================] - 6s 29ms/step - loss: 0.0114 - val_loss: 0.0109\n",
            "Epoch 17/20\n",
            "219/219 [==============================] - 6s 30ms/step - loss: 0.0114 - val_loss: 0.0109\n",
            "Epoch 18/20\n",
            "219/219 [==============================] - 7s 30ms/step - loss: 0.0114 - val_loss: 0.0109\n",
            "Epoch 19/20\n",
            "219/219 [==============================] - 10s 46ms/step - loss: 0.0114 - val_loss: 0.0109\n",
            "Epoch 20/20\n",
            "219/219 [==============================] - 10s 47ms/step - loss: 0.0114 - val_loss: 0.0109\n"
          ]
        }
      ]
    },
    {
      "cell_type": "code",
      "source": [
        "model.evaluate(X_valid, y_valid)"
      ],
      "metadata": {
        "colab": {
          "base_uri": "https://localhost:8080/"
        },
        "id": "e-u09y6CXOSZ",
        "outputId": "5ae0131a-a4e4-4aeb-8297-71e1cf260caf"
      },
      "execution_count": 13,
      "outputs": [
        {
          "output_type": "stream",
          "name": "stdout",
          "text": [
            "63/63 [==============================] - 1s 9ms/step - loss: 0.0109\n"
          ]
        },
        {
          "output_type": "execute_result",
          "data": {
            "text/plain": [
              "0.010882214643061161"
            ]
          },
          "metadata": {},
          "execution_count": 13
        }
      ]
    },
    {
      "cell_type": "code",
      "source": [
        "plot_learning_curves(history.history[\"loss\"], history.history[\"val_loss\"])\n",
        "plt.show()"
      ],
      "metadata": {
        "colab": {
          "base_uri": "https://localhost:8080/",
          "height": 291
        },
        "id": "DapDayDGXOUf",
        "outputId": "6e22741d-c03a-488d-c273-843440789b8d"
      },
      "execution_count": 14,
      "outputs": [
        {
          "output_type": "display_data",
          "data": {
            "text/plain": [
              "<Figure size 432x288 with 1 Axes>"
            ],
            "image/png": "[encoded data removed]"
          },
          "metadata": {
            "needs_background": "light"
          }
        }
      ]
    },
    {
      "cell_type": "code",
      "source": [
        "y_pred = model.predict(X_valid)\n",
        "plot_series(X_valid[0, :, 0], y_valid[0, 0], y_pred[0, 0])\n",
        "plt.show()"
      ],
      "metadata": {
        "colab": {
          "base_uri": "https://localhost:8080/",
          "height": 311
        },
        "id": "hIrIUvv_XOWk",
        "outputId": "d0633342-61d9-4af7-de1a-f4c0437ba50a"
      },
      "execution_count": 15,
      "outputs": [
        {
          "output_type": "stream",
          "name": "stdout",
          "text": [
            "63/63 [==============================] - 0s 5ms/step\n"
          ]
        },
        {
          "output_type": "display_data",
          "data": {
            "text/plain": [
              "<Figure size 432x288 with 1 Axes>"
            ],
            "image/png": "[encoded data removed]"
          },
          "metadata": {
            "needs_background": "light"
          }
        }
      ]
    },
    {
      "cell_type": "markdown",
      "source": [
        "## Deep RNN"
      ],
      "metadata": {
        "id": "HBGpo2IyX2FD"
      }
    },
    {
      "cell_type": "code",
      "source": [
        "np.random.seed(42)\n",
        "tf.random.set_seed(42)\n",
        "\n",
        "model = keras.models.Sequential([\n",
        "    keras.layers.SimpleRNN(20, return_sequences=True, input_shape=[None, 1]),\n",
        "    keras.layers.SimpleRNN(20, return_sequences=True),\n",
        "    keras.layers.SimpleRNN(1)\n",
        "])\n",
        "\n",
        "model.compile(loss=\"mse\", optimizer=\"adam\")\n",
        "history = model.fit(X_train, y_train, epochs=20,\n",
        "                    validation_data=(X_valid, y_valid))"
      ],
      "metadata": {
        "colab": {
          "base_uri": "https://localhost:8080/"
        },
        "id": "BPSePgtjXOYg",
        "outputId": "06917f50-11c6-4279-ec00-e526e662e5c5"
      },
      "execution_count": 16,
      "outputs": [
        {
          "output_type": "stream",
          "name": "stdout",
          "text": [
            "Epoch 1/20\n",
            "219/219 [==============================] - 33s 138ms/step - loss: 0.0236 - val_loss: 0.0046\n",
            "Epoch 2/20\n",
            "219/219 [==============================] - 30s 138ms/step - loss: 0.0041 - val_loss: 0.0035\n",
            "Epoch 3/20\n",
            "219/219 [==============================] - 30s 139ms/step - loss: 0.0034 - val_loss: 0.0032\n",
            "Epoch 4/20\n",
            "219/219 [==============================] - 24s 111ms/step - loss: 0.0032 - val_loss: 0.0031\n",
            "Epoch 5/20\n",
            "219/219 [==============================] - 26s 117ms/step - loss: 0.0031 - val_loss: 0.0030\n",
            "Epoch 6/20\n",
            "219/219 [==============================] - 30s 137ms/step - loss: 0.0030 - val_loss: 0.0029\n",
            "Epoch 7/20\n",
            "219/219 [==============================] - 25s 114ms/step - loss: 0.0030 - val_loss: 0.0029\n",
            "Epoch 8/20\n",
            "219/219 [==============================] - 24s 111ms/step - loss: 0.0030 - val_loss: 0.0029\n",
            "Epoch 9/20\n",
            "219/219 [==============================] - 25s 112ms/step - loss: 0.0029 - val_loss: 0.0028\n",
            "Epoch 10/20\n",
            "219/219 [==============================] - 25s 115ms/step - loss: 0.0029 - val_loss: 0.0027\n",
            "Epoch 11/20\n",
            "219/219 [==============================] - 27s 124ms/step - loss: 0.0028 - val_loss: 0.0028\n",
            "Epoch 12/20\n",
            "219/219 [==============================] - 25s 113ms/step - loss: 0.0028 - val_loss: 0.0028\n",
            "Epoch 13/20\n",
            "219/219 [==============================] - 24s 110ms/step - loss: 0.0029 - val_loss: 0.0027\n",
            "Epoch 14/20\n",
            "219/219 [==============================] - 25s 112ms/step - loss: 0.0028 - val_loss: 0.0028\n",
            "Epoch 15/20\n",
            "219/219 [==============================] - 34s 154ms/step - loss: 0.0028 - val_loss: 0.0028\n",
            "Epoch 16/20\n",
            "219/219 [==============================] - 24s 110ms/step - loss: 0.0028 - val_loss: 0.0026\n",
            "Epoch 17/20\n",
            "219/219 [==============================] - 24s 111ms/step - loss: 0.0028 - val_loss: 0.0025\n",
            "Epoch 18/20\n",
            "219/219 [==============================] - 25s 114ms/step - loss: 0.0028 - val_loss: 0.0026\n",
            "Epoch 19/20\n",
            "219/219 [==============================] - 24s 110ms/step - loss: 0.0027 - val_loss: 0.0026\n",
            "Epoch 20/20\n",
            "219/219 [==============================] - 25s 113ms/step - loss: 0.0027 - val_loss: 0.0027\n"
          ]
        }
      ]
    },
    {
      "cell_type": "code",
      "source": [
        "model.evaluate(X_valid, y_valid)"
      ],
      "metadata": {
        "colab": {
          "base_uri": "https://localhost:8080/"
        },
        "id": "4FAk5F7jXOam",
        "outputId": "0a50241b-4cc7-46dd-df9f-3dc8ec5d6855"
      },
      "execution_count": 17,
      "outputs": [
        {
          "output_type": "stream",
          "name": "stdout",
          "text": [
            "63/63 [==============================] - 1s 12ms/step - loss: 0.0027\n"
          ]
        },
        {
          "output_type": "execute_result",
          "data": {
            "text/plain": [
              "0.0026966349687427282"
            ]
          },
          "metadata": {},
          "execution_count": 17
        }
      ]
    },
    {
      "cell_type": "code",
      "source": [
        "plot_learning_curves(history.history[\"loss\"], history.history[\"val_loss\"])\n",
        "plt.show()"
      ],
      "metadata": {
        "colab": {
          "base_uri": "https://localhost:8080/",
          "height": 291
        },
        "id": "DtmaZEWnXOce",
        "outputId": "f0e015b2-9969-401f-95ec-55e8dc4eca65"
      },
      "execution_count": 18,
      "outputs": [
        {
          "output_type": "display_data",
          "data": {
            "text/plain": [
              "<Figure size 432x288 with 1 Axes>"
            ],
            "image/png": "[encoded data removed]"
          },
          "metadata": {
            "needs_background": "light"
          }
        }
      ]
    },
    {
      "cell_type": "code",
      "source": [
        "y_pred = model.predict(X_valid)\n",
        "plot_series(X_valid[0, :, 0], y_valid[0, 0], y_pred[0, 0])\n",
        "plt.show()"
      ],
      "metadata": {
        "colab": {
          "base_uri": "https://localhost:8080/",
          "height": 311
        },
        "id": "8Y_BtjgWXOfB",
        "outputId": "b33e2dcf-a6bf-40b1-efdc-0ab9aae43a0b"
      },
      "execution_count": 19,
      "outputs": [
        {
          "output_type": "stream",
          "name": "stdout",
          "text": [
            "63/63 [==============================] - 1s 12ms/step\n"
          ]
        },
        {
          "output_type": "display_data",
          "data": {
            "text/plain": [
              "<Figure size 432x288 with 1 Axes>"
            ],
            "image/png": "[encoded data removed]"
          },
          "metadata": {
            "needs_background": "light"
          }
        }
      ]
    },
    {
      "cell_type": "code",
      "source": [
        "# 마지막 output에 RNN 대신 Dense layer 활용한 경우 - 불필요한 hidden state 감소로 빠르게 수렴해 성능 좋아짐 \n",
        "np.random.seed(42)\n",
        "tf.random.set_seed(42)\n",
        "\n",
        "model = keras.models.Sequential([\n",
        "    keras.layers.SimpleRNN(20, return_sequences=True, input_shape=[None, 1]),\n",
        "    keras.layers.SimpleRNN(20),\n",
        "    keras.layers.Dense(1)\n",
        "])\n",
        "\n",
        "model.compile(loss=\"mse\", optimizer=\"adam\")\n",
        "history = model.fit(X_train, y_train, epochs=20,\n",
        "                    validation_data=(X_valid, y_valid))"
      ],
      "metadata": {
        "colab": {
          "base_uri": "https://localhost:8080/"
        },
        "id": "1WI8zt4NxJqC",
        "outputId": "7ca29f4a-055e-45c1-ec7e-b3e094577d4c"
      },
      "execution_count": 38,
      "outputs": [
        {
          "output_type": "stream",
          "name": "stdout",
          "text": [
            "Epoch 1/20\n",
            "219/219 [==============================] - 29s 121ms/step - loss: 0.0665 - val_loss: 0.0366\n",
            "Epoch 2/20\n",
            "219/219 [==============================] - 25s 115ms/step - loss: 0.0324 - val_loss: 0.0287\n",
            "Epoch 3/20\n",
            "219/219 [==============================] - 17s 79ms/step - loss: 0.0276 - val_loss: 0.0338\n",
            "Epoch 4/20\n",
            "219/219 [==============================] - 22s 102ms/step - loss: 0.0245 - val_loss: 0.0228\n",
            "Epoch 5/20\n",
            "219/219 [==============================] - 17s 78ms/step - loss: 0.0240 - val_loss: 0.0219\n",
            "Epoch 6/20\n",
            "219/219 [==============================] - 18s 82ms/step - loss: 0.0225 - val_loss: 0.0262\n",
            "Epoch 7/20\n",
            "219/219 [==============================] - 24s 109ms/step - loss: 0.0223 - val_loss: 0.0224\n",
            "Epoch 8/20\n",
            "219/219 [==============================] - 24s 108ms/step - loss: 0.0227 - val_loss: 0.0225\n",
            "Epoch 9/20\n",
            "219/219 [==============================] - 18s 81ms/step - loss: 0.0216 - val_loss: 0.0224\n",
            "Epoch 10/20\n",
            "219/219 [==============================] - 22s 102ms/step - loss: 0.0216 - val_loss: 0.0208\n",
            "Epoch 11/20\n",
            "219/219 [==============================] - 27s 126ms/step - loss: 0.0208 - val_loss: 0.0204\n",
            "Epoch 12/20\n",
            "219/219 [==============================] - 24s 107ms/step - loss: 0.0210 - val_loss: 0.0207\n",
            "Epoch 13/20\n",
            "219/219 [==============================] - 26s 117ms/step - loss: 0.0209 - val_loss: 0.0206\n",
            "Epoch 14/20\n",
            "219/219 [==============================] - 18s 83ms/step - loss: 0.0201 - val_loss: 0.0194\n",
            "Epoch 15/20\n",
            "219/219 [==============================] - 23s 105ms/step - loss: 0.0203 - val_loss: 0.0200\n",
            "Epoch 16/20\n",
            "219/219 [==============================] - 20s 93ms/step - loss: 0.0193 - val_loss: 0.0187\n",
            "Epoch 17/20\n",
            "219/219 [==============================] - 21s 94ms/step - loss: 0.0200 - val_loss: 0.0179\n",
            "Epoch 18/20\n",
            "219/219 [==============================] - 17s 79ms/step - loss: 0.0189 - val_loss: 0.0208\n",
            "Epoch 19/20\n",
            "219/219 [==============================] - 18s 80ms/step - loss: 0.0201 - val_loss: 0.0193\n",
            "Epoch 20/20\n",
            "219/219 [==============================] - 17s 79ms/step - loss: 0.0198 - val_loss: 0.0204\n"
          ]
        }
      ]
    },
    {
      "cell_type": "code",
      "source": [
        "model.evaluate(X_valid, y_valid)"
      ],
      "metadata": {
        "colab": {
          "base_uri": "https://localhost:8080/"
        },
        "id": "cRBgSbNHxL9n",
        "outputId": "26482f36-ada2-4ef4-98a8-9bc8677314d6"
      },
      "execution_count": 39,
      "outputs": [
        {
          "output_type": "stream",
          "name": "stdout",
          "text": [
            "63/63 [==============================] - 1s 9ms/step - loss: 0.0204\n"
          ]
        },
        {
          "output_type": "execute_result",
          "data": {
            "text/plain": [
              "0.020407192409038544"
            ]
          },
          "metadata": {},
          "execution_count": 39
        }
      ]
    },
    {
      "cell_type": "code",
      "source": [
        "plot_learning_curves(history.history[\"loss\"], history.history[\"val_loss\"])\n",
        "plt.show()"
      ],
      "metadata": {
        "colab": {
          "base_uri": "https://localhost:8080/",
          "height": 291
        },
        "id": "CDw6JP8XxNsR",
        "outputId": "9baaef6b-7fc6-4c64-b629-caefd3d76110"
      },
      "execution_count": 40,
      "outputs": [
        {
          "output_type": "display_data",
          "data": {
            "text/plain": [
              "<Figure size 432x288 with 1 Axes>"
            ],
            "image/png": "[encoded data removed]"
          },
          "metadata": {
            "needs_background": "light"
          }
        }
      ]
    },
    {
      "cell_type": "code",
      "source": [
        "y_pred = model.predict(X_valid)\n",
        "plot_series(X_valid[0, :, 0], y_valid[0, 0], y_pred[0, 0])\n",
        "plt.show()"
      ],
      "metadata": {
        "colab": {
          "base_uri": "https://localhost:8080/",
          "height": 311
        },
        "id": "LTvHJl49xPMj",
        "outputId": "ba552fe0-fc3e-44d5-8635-6f52ddb9d20b"
      },
      "execution_count": 41,
      "outputs": [
        {
          "output_type": "stream",
          "name": "stdout",
          "text": [
            "63/63 [==============================] - 1s 9ms/step\n"
          ]
        },
        {
          "output_type": "display_data",
          "data": {
            "text/plain": [
              "<Figure size 432x288 with 1 Axes>"
            ],
            "image/png": "[encoded data removed]"
          },
          "metadata": {
            "needs_background": "light"
          }
        }
      ]
    },
    {
      "cell_type": "markdown",
      "source": [
        "## 여러 time step에 대한 forecasting"
      ],
      "metadata": {
        "id": "pQcSsllOYHOm"
      }
    },
    {
      "cell_type": "markdown",
      "source": [
        "### 순차적인 예측"
      ],
      "metadata": {
        "id": "ZwlbNUjFYLiV"
      }
    },
    {
      "cell_type": "code",
      "source": [
        "np.random.seed(43) # 42는 훈련 세트에 있는 첫 번째 시리즈를 반환하기 때문에 다른 값으로 지정합니다\n",
        "\n",
        "series = generate_time_series(1, n_steps + 10)\n",
        "X_new, Y_new = series[:, :n_steps], series[:, n_steps:]\n",
        "X = X_new\n",
        "for step_ahead in range(10):\n",
        "    y_pred_one = model.predict(X[:, step_ahead:])[:, np.newaxis, :]\n",
        "    X = np.concatenate([X, y_pred_one], axis=1)\n",
        "\n",
        "Y_pred = X[:, n_steps:]\n",
        "Y_pred.shape"
      ],
      "metadata": {
        "colab": {
          "base_uri": "https://localhost:8080/"
        },
        "id": "CaCrfeIgYNql",
        "outputId": "e6c3fd7d-d36c-42a8-a03a-fd5085cd6d08"
      },
      "execution_count": 20,
      "outputs": [
        {
          "output_type": "stream",
          "name": "stdout",
          "text": [
            "1/1 [==============================] - 0s 28ms/step\n",
            "1/1 [==============================] - 0s 26ms/step\n",
            "1/1 [==============================] - 0s 29ms/step\n",
            "1/1 [==============================] - 0s 25ms/step\n",
            "1/1 [==============================] - 0s 25ms/step\n",
            "1/1 [==============================] - 0s 26ms/step\n",
            "1/1 [==============================] - 0s 29ms/step\n",
            "1/1 [==============================] - 0s 26ms/step\n",
            "1/1 [==============================] - 0s 32ms/step\n",
            "1/1 [==============================] - 0s 27ms/step\n"
          ]
        },
        {
          "output_type": "execute_result",
          "data": {
            "text/plain": [
              "(1, 10, 1)"
            ]
          },
          "metadata": {},
          "execution_count": 20
        }
      ]
    },
    {
      "cell_type": "code",
      "source": [
        "def plot_multiple_forecasts(X, Y, Y_pred):\n",
        "    n_steps = X.shape[1]\n",
        "    ahead = Y.shape[1]\n",
        "    plot_series(X[0, :, 0])\n",
        "    plt.plot(np.arange(n_steps, n_steps + ahead), Y[0, :, 0], \"bo-\", label=\"Actual\")\n",
        "    plt.plot(np.arange(n_steps, n_steps + ahead), Y_pred[0, :, 0], \"rx-\", label=\"Forecast\", markersize=10)\n",
        "    plt.axis([0, n_steps + ahead, -1, 1])\n",
        "    plt.legend(fontsize=14)\n",
        "\n",
        "plot_multiple_forecasts(X_new, Y_new, Y_pred)\n",
        "plt.show()"
      ],
      "metadata": {
        "colab": {
          "base_uri": "https://localhost:8080/",
          "height": 293
        },
        "id": "OUFW-LsrYNst",
        "outputId": "e2034650-c70c-4a2f-c210-2b3cdf469685"
      },
      "execution_count": 21,
      "outputs": [
        {
          "output_type": "display_data",
          "data": {
            "text/plain": [
              "<Figure size 432x288 with 1 Axes>"
            ],
            "image/png": "[encoded data removed]"
          },
          "metadata": {
            "needs_background": "light"
          }
        }
      ]
    },
    {
      "cell_type": "markdown",
      "source": [
        "### Vector 형식으로 예측 "
      ],
      "metadata": {
        "id": "HA5mMIZrYZOZ"
      }
    },
    {
      "cell_type": "code",
      "source": [
        "np.random.seed(42)\n",
        "\n",
        "n_steps = 50\n",
        "series = generate_time_series(10000, n_steps + 10)\n",
        "X_train, Y_train = series[:7000, :n_steps], series[:7000, -10:, 0]\n",
        "X_valid, Y_valid = series[7000:9000, :n_steps], series[7000:9000, -10:, 0]\n",
        "X_test, Y_test = series[9000:, :n_steps], series[9000:, -10:, 0]"
      ],
      "metadata": {
        "id": "mAA5B9ihYNu5"
      },
      "execution_count": 22,
      "outputs": []
    },
    {
      "cell_type": "code",
      "source": [
        "X = X_valid\n",
        "for step_ahead in range(10):\n",
        "    y_pred_one = model.predict(X)[:, np.newaxis, :]\n",
        "    X = np.concatenate([X, y_pred_one], axis=1)\n",
        "\n",
        "Y_pred = X[:, n_steps:, 0]"
      ],
      "metadata": {
        "colab": {
          "base_uri": "https://localhost:8080/"
        },
        "id": "TCuGa0TBYNxL",
        "outputId": "26f23a28-7dea-4625-b090-019478c87460"
      },
      "execution_count": 23,
      "outputs": [
        {
          "output_type": "stream",
          "name": "stdout",
          "text": [
            "63/63 [==============================] - 1s 12ms/step\n",
            "63/63 [==============================] - 1s 12ms/step\n",
            "63/63 [==============================] - 1s 12ms/step\n",
            "63/63 [==============================] - 1s 12ms/step\n",
            "63/63 [==============================] - 1s 13ms/step\n",
            "63/63 [==============================] - 1s 13ms/step\n",
            "63/63 [==============================] - 1s 13ms/step\n",
            "63/63 [==============================] - 1s 13ms/step\n",
            "63/63 [==============================] - 1s 14ms/step\n",
            "63/63 [==============================] - 1s 14ms/step\n"
          ]
        }
      ]
    },
    {
      "cell_type": "code",
      "source": [
        "print(Y_pred.shape)\n",
        "print(np.mean(keras.metrics.mean_squared_error(Y_valid, Y_pred)))"
      ],
      "metadata": {
        "colab": {
          "base_uri": "https://localhost:8080/"
        },
        "id": "l0C1sIg1YNzV",
        "outputId": "c9325180-3aed-43b1-9eec-1e46de47a7f6"
      },
      "execution_count": 24,
      "outputs": [
        {
          "output_type": "stream",
          "name": "stdout",
          "text": [
            "(2000, 10)\n",
            "0.024771001\n"
          ]
        }
      ]
    },
    {
      "cell_type": "code",
      "source": [
        "Y_naive_pred = np.tile(X_valid[:, -1], 10) # 마지막 타임 스텝 값을 선택해 10번 반복합니다\n",
        "np.mean(keras.metrics.mean_squared_error(Y_valid, Y_naive_pred))"
      ],
      "metadata": {
        "colab": {
          "base_uri": "https://localhost:8080/"
        },
        "id": "QVUZ6B6vYN1Y",
        "outputId": "de87da74-e706-458f-aa5c-87eae356fc97"
      },
      "execution_count": 25,
      "outputs": [
        {
          "output_type": "execute_result",
          "data": {
            "text/plain": [
              "0.25697407"
            ]
          },
          "metadata": {},
          "execution_count": 25
        }
      ]
    },
    {
      "cell_type": "code",
      "source": [
        "np.random.seed(42)\n",
        "tf.random.set_seed(42)\n",
        "\n",
        "model = keras.models.Sequential([\n",
        "    keras.layers.SimpleRNN(20, return_sequences=True, input_shape=[None, 1]),\n",
        "    keras.layers.SimpleRNN(20),\n",
        "    keras.layers.Dense(10)\n",
        "])\n",
        "\n",
        "model.compile(loss=\"mse\", optimizer=\"adam\")\n",
        "history = model.fit(X_train, Y_train, epochs=20,\n",
        "                    validation_data=(X_valid, Y_valid))"
      ],
      "metadata": {
        "colab": {
          "base_uri": "https://localhost:8080/"
        },
        "id": "CBrvCm3bYN5Z",
        "outputId": "e1f08fa9-a192-421c-94a5-7fc057f9c19c"
      },
      "execution_count": 26,
      "outputs": [
        {
          "output_type": "stream",
          "name": "stdout",
          "text": [
            "Epoch 1/20\n",
            "219/219 [==============================] - 19s 76ms/step - loss: 0.0567 - val_loss: 0.0293\n",
            "Epoch 2/20\n",
            "219/219 [==============================] - 16s 74ms/step - loss: 0.0240 - val_loss: 0.0173\n",
            "Epoch 3/20\n",
            "219/219 [==============================] - 16s 73ms/step - loss: 0.0157 - val_loss: 0.0157\n",
            "Epoch 4/20\n",
            "219/219 [==============================] - 16s 74ms/step - loss: 0.0130 - val_loss: 0.0118\n",
            "Epoch 5/20\n",
            "219/219 [==============================] - 16s 75ms/step - loss: 0.0115 - val_loss: 0.0098\n",
            "Epoch 6/20\n",
            "219/219 [==============================] - 18s 84ms/step - loss: 0.0105 - val_loss: 0.0089\n",
            "Epoch 7/20\n",
            "219/219 [==============================] - 16s 75ms/step - loss: 0.0097 - val_loss: 0.0093\n",
            "Epoch 8/20\n",
            "219/219 [==============================] - 16s 75ms/step - loss: 0.0097 - val_loss: 0.0081\n",
            "Epoch 9/20\n",
            "219/219 [==============================] - 16s 75ms/step - loss: 0.0094 - val_loss: 0.0105\n",
            "Epoch 10/20\n",
            "219/219 [==============================] - 16s 74ms/step - loss: 0.0089 - val_loss: 0.0089\n",
            "Epoch 11/20\n",
            "219/219 [==============================] - 16s 74ms/step - loss: 0.0089 - val_loss: 0.0084\n",
            "Epoch 12/20\n",
            "219/219 [==============================] - 16s 74ms/step - loss: 0.0086 - val_loss: 0.0081\n",
            "Epoch 13/20\n",
            "219/219 [==============================] - 16s 74ms/step - loss: 0.0084 - val_loss: 0.0075\n",
            "Epoch 14/20\n",
            "219/219 [==============================] - 16s 75ms/step - loss: 0.0084 - val_loss: 0.0088\n",
            "Epoch 15/20\n",
            "219/219 [==============================] - 16s 75ms/step - loss: 0.0080 - val_loss: 0.0081\n",
            "Epoch 16/20\n",
            "219/219 [==============================] - 16s 74ms/step - loss: 0.0082 - val_loss: 0.0089\n",
            "Epoch 17/20\n",
            "219/219 [==============================] - 16s 74ms/step - loss: 0.0083 - val_loss: 0.0097\n",
            "Epoch 18/20\n",
            "219/219 [==============================] - 16s 74ms/step - loss: 0.0082 - val_loss: 0.0077\n",
            "Epoch 19/20\n",
            "219/219 [==============================] - 17s 75ms/step - loss: 0.0081 - val_loss: 0.0073\n",
            "Epoch 20/20\n",
            "219/219 [==============================] - 16s 74ms/step - loss: 0.0082 - val_loss: 0.0077\n"
          ]
        }
      ]
    },
    {
      "cell_type": "code",
      "source": [
        "Y_pred = model.predict(X_new)[..., np.newaxis]"
      ],
      "metadata": {
        "colab": {
          "base_uri": "https://localhost:8080/"
        },
        "id": "8sosNc9mWg78",
        "outputId": "36eaeaf5-4bf0-4c8f-f585-7246e9045cbf"
      },
      "execution_count": 27,
      "outputs": [
        {
          "output_type": "stream",
          "name": "stdout",
          "text": [
            "1/1 [==============================] - 0s 210ms/step\n"
          ]
        }
      ]
    },
    {
      "cell_type": "markdown",
      "source": [
        "### Sequence 형식으로 예측 "
      ],
      "metadata": {
        "id": "1-1CZG4fZlb-"
      }
    },
    {
      "cell_type": "code",
      "source": [
        "# 타임 스텝마다 다음 10 스텝을 예측하는 RNN\n",
        "np.random.seed(42)\n",
        "\n",
        "n_steps = 50\n",
        "series = generate_time_series(10000, n_steps + 10)\n",
        "X_train = series[:7000, :n_steps]\n",
        "X_valid = series[7000:9000, :n_steps]\n",
        "X_test = series[9000:, :n_steps]\n",
        "\n",
        "# 각 타깃은 10D 벡터의 시퀀스\n",
        "Y = np.empty((10000, n_steps, 10))\n",
        "for step_ahead in range(1, 10 + 1):\n",
        "    Y[..., step_ahead - 1] = series[..., step_ahead:step_ahead + n_steps, 0]\n",
        "Y_train = Y[:7000]\n",
        "Y_valid = Y[7000:9000]\n",
        "Y_test = Y[9000:]"
      ],
      "metadata": {
        "id": "JlFi58pJZb5q"
      },
      "execution_count": 28,
      "outputs": []
    },
    {
      "cell_type": "code",
      "source": [
        "# TimeDistributed wrapper 활용용\n",
        "np.random.seed(42)\n",
        "tf.random.set_seed(42)\n",
        "\n",
        "model = keras.models.Sequential([\n",
        "    keras.layers.SimpleRNN(20, return_sequences=True, input_shape=[None, 1]),\n",
        "    keras.layers.SimpleRNN(20, return_sequences=True),\n",
        "    keras.layers.TimeDistributed(keras.layers.Dense(10))\n",
        "])"
      ],
      "metadata": {
        "id": "W7H4hbqyZb7u"
      },
      "execution_count": 29,
      "outputs": []
    },
    {
      "cell_type": "code",
      "source": [
        "def last_time_step_mse(Y_true, Y_pred):\n",
        "    return keras.metrics.mean_squared_error(Y_true[:, -1], Y_pred[:, -1])\n",
        "\n",
        "optimizer = keras.optimizers.Adam(lr=0.01)\n",
        "model.compile(loss=\"mse\", optimizer=keras.optimizers.Adam(learning_rate=0.01), metrics=[last_time_step_mse])\n",
        "history = model.fit(X_train, Y_train, epochs=20,\n",
        "                    validation_data=(X_valid, Y_valid))"
      ],
      "metadata": {
        "colab": {
          "base_uri": "https://localhost:8080/"
        },
        "id": "uJA_PWkyZb-Y",
        "outputId": "9470dffb-9bcf-4e6e-ce50-51470cd8e959"
      },
      "execution_count": 30,
      "outputs": [
        {
          "output_type": "stream",
          "name": "stderr",
          "text": [
            "WARNING:absl:`lr` is deprecated, please use `learning_rate` instead, or use the legacy optimizer, e.g.,tf.keras.optimizers.legacy.Adam.\n"
          ]
        },
        {
          "output_type": "stream",
          "name": "stdout",
          "text": [
            "Epoch 1/20\n",
            "219/219 [==============================] - 18s 75ms/step - loss: 0.0502 - last_time_step_mse: 0.0403 - val_loss: 0.0415 - val_last_time_step_mse: 0.0305\n",
            "Epoch 2/20\n",
            "219/219 [==============================] - 16s 74ms/step - loss: 0.0368 - last_time_step_mse: 0.0250 - val_loss: 0.0317 - val_last_time_step_mse: 0.0204\n",
            "Epoch 3/20\n",
            "219/219 [==============================] - 16s 75ms/step - loss: 0.0304 - last_time_step_mse: 0.0191 - val_loss: 0.0295 - val_last_time_step_mse: 0.0186\n",
            "Epoch 4/20\n",
            "219/219 [==============================] - 16s 75ms/step - loss: 0.0284 - last_time_step_mse: 0.0168 - val_loss: 0.0257 - val_last_time_step_mse: 0.0137\n",
            "Epoch 5/20\n",
            "219/219 [==============================] - 17s 76ms/step - loss: 0.0261 - last_time_step_mse: 0.0141 - val_loss: 0.0247 - val_last_time_step_mse: 0.0130\n",
            "Epoch 6/20\n",
            "219/219 [==============================] - 16s 73ms/step - loss: 0.0247 - last_time_step_mse: 0.0124 - val_loss: 0.0251 - val_last_time_step_mse: 0.0133\n",
            "Epoch 7/20\n",
            "219/219 [==============================] - 16s 74ms/step - loss: 0.0228 - last_time_step_mse: 0.0105 - val_loss: 0.0214 - val_last_time_step_mse: 0.0096\n",
            "Epoch 8/20\n",
            "219/219 [==============================] - 16s 73ms/step - loss: 0.0215 - last_time_step_mse: 0.0090 - val_loss: 0.0215 - val_last_time_step_mse: 0.0096\n",
            "Epoch 9/20\n",
            "219/219 [==============================] - 16s 74ms/step - loss: 0.0207 - last_time_step_mse: 0.0084 - val_loss: 0.0193 - val_last_time_step_mse: 0.0068\n",
            "Epoch 10/20\n",
            "219/219 [==============================] - 16s 75ms/step - loss: 0.0199 - last_time_step_mse: 0.0076 - val_loss: 0.0205 - val_last_time_step_mse: 0.0095\n",
            "Epoch 11/20\n",
            "219/219 [==============================] - 16s 73ms/step - loss: 0.0199 - last_time_step_mse: 0.0078 - val_loss: 0.0194 - val_last_time_step_mse: 0.0069\n",
            "Epoch 12/20\n",
            "219/219 [==============================] - 16s 72ms/step - loss: 0.0193 - last_time_step_mse: 0.0072 - val_loss: 0.0182 - val_last_time_step_mse: 0.0061\n",
            "Epoch 13/20\n",
            "219/219 [==============================] - 16s 73ms/step - loss: 0.0189 - last_time_step_mse: 0.0069 - val_loss: 0.0188 - val_last_time_step_mse: 0.0068\n",
            "Epoch 14/20\n",
            "219/219 [==============================] - 16s 73ms/step - loss: 0.0188 - last_time_step_mse: 0.0070 - val_loss: 0.0187 - val_last_time_step_mse: 0.0072\n",
            "Epoch 15/20\n",
            "219/219 [==============================] - 19s 85ms/step - loss: 0.0189 - last_time_step_mse: 0.0069 - val_loss: 0.0195 - val_last_time_step_mse: 0.0086\n",
            "Epoch 16/20\n",
            "219/219 [==============================] - 16s 74ms/step - loss: 0.0197 - last_time_step_mse: 0.0079 - val_loss: 0.0194 - val_last_time_step_mse: 0.0087\n",
            "Epoch 17/20\n",
            "219/219 [==============================] - 16s 73ms/step - loss: 0.0186 - last_time_step_mse: 0.0068 - val_loss: 0.0178 - val_last_time_step_mse: 0.0060\n",
            "Epoch 18/20\n",
            "219/219 [==============================] - 16s 73ms/step - loss: 0.0188 - last_time_step_mse: 0.0072 - val_loss: 0.0178 - val_last_time_step_mse: 0.0059\n",
            "Epoch 19/20\n",
            "219/219 [==============================] - 16s 73ms/step - loss: 0.0183 - last_time_step_mse: 0.0067 - val_loss: 0.0174 - val_last_time_step_mse: 0.0061\n",
            "Epoch 20/20\n",
            "219/219 [==============================] - 16s 74ms/step - loss: 0.0183 - last_time_step_mse: 0.0067 - val_loss: 0.0200 - val_last_time_step_mse: 0.0091\n"
          ]
        }
      ]
    },
    {
      "cell_type": "markdown",
      "source": [
        "- Long sequence"
      ],
      "metadata": {
        "id": "gHPsrYqSaEDj"
      }
    },
    {
      "cell_type": "markdown",
      "source": [
        "## Layer normalization"
      ],
      "metadata": {
        "id": "VTHMNA4kaGQe"
      }
    },
    {
      "cell_type": "code",
      "source": [
        "# Input과 state에 대한 linear combination 계산 후 적용함\n",
        "# Batch와 무관한 계산으로 샘플데이터에 대한 특성 통계가 필요없음\n",
        "# training과 test에서 동일한 방식으로 동작 \n",
        "from tensorflow import keras\n",
        "from tensorflow.keras.layers import LayerNormalization"
      ],
      "metadata": {
        "id": "Q1shsaxElPTI"
      },
      "execution_count": 31,
      "outputs": []
    },
    {
      "cell_type": "code",
      "source": [
        "class LNSimpleRNNCell(keras.layers.Layer):\n",
        "    def __init__(self, units, activation=\"tanh\", **kwargs):\n",
        "        super().__init__(**kwargs)\n",
        "        self.state_size = units\n",
        "        self.output_size = units\n",
        "        self.simple_rnn_cell = keras.layers.SimpleRNNCell(units,\n",
        "                                                          activation=None)\n",
        "        self.layer_norm = LayerNormalization()\n",
        "        self.activation = keras.activations.get(activation)\n",
        "    def get_initial_state(self, inputs=None, batch_size=None, dtype=None):\n",
        "        if inputs is not None:\n",
        "            batch_size = tf.shape(inputs)[0]\n",
        "            dtype = inputs.dtype\n",
        "        return [tf.zeros([batch_size, self.state_size], dtype=dtype)]\n",
        "    def call(self, inputs, states):\n",
        "        outputs, new_states = self.simple_rnn_cell(inputs, states)\n",
        "        norm_outputs = self.activation(self.layer_norm(outputs))\n",
        "        return norm_outputs, [norm_outputs]"
      ],
      "metadata": {
        "id": "QBTXcWjAZcAn"
      },
      "execution_count": 32,
      "outputs": []
    },
    {
      "cell_type": "code",
      "source": [
        "np.random.seed(42)\n",
        "tf.random.set_seed(42)\n",
        "\n",
        "model = keras.models.Sequential([\n",
        "    keras.layers.RNN(LNSimpleRNNCell(20), return_sequences=True,\n",
        "                     input_shape=[None, 1]),\n",
        "    keras.layers.RNN(LNSimpleRNNCell(20), return_sequences=True),\n",
        "    keras.layers.TimeDistributed(keras.layers.Dense(10))\n",
        "])\n",
        "\n",
        "model.compile(loss=\"mse\", optimizer=\"adam\", metrics=[last_time_step_mse])\n",
        "history = model.fit(X_train, Y_train, epochs=20,\n",
        "                    validation_data=(X_valid, Y_valid))"
      ],
      "metadata": {
        "colab": {
          "base_uri": "https://localhost:8080/"
        },
        "id": "lCUIe_zxZcCr",
        "outputId": "11bd1182-a0ab-45f6-9602-f57b44b55381"
      },
      "execution_count": 33,
      "outputs": [
        {
          "output_type": "stream",
          "name": "stdout",
          "text": [
            "Epoch 1/20\n",
            "219/219 [==============================] - 42s 166ms/step - loss: 0.1318 - last_time_step_mse: 0.1138 - val_loss: 0.0632 - val_last_time_step_mse: 0.0521\n",
            "Epoch 2/20\n",
            "219/219 [==============================] - 35s 160ms/step - loss: 0.0591 - last_time_step_mse: 0.0488 - val_loss: 0.0563 - val_last_time_step_mse: 0.0466\n",
            "Epoch 3/20\n",
            "219/219 [==============================] - 36s 165ms/step - loss: 0.0545 - last_time_step_mse: 0.0448 - val_loss: 0.0519 - val_last_time_step_mse: 0.0417\n",
            "Epoch 4/20\n",
            "219/219 [==============================] - 38s 174ms/step - loss: 0.0497 - last_time_step_mse: 0.0398 - val_loss: 0.0473 - val_last_time_step_mse: 0.0383\n",
            "Epoch 5/20\n",
            "219/219 [==============================] - 36s 162ms/step - loss: 0.0445 - last_time_step_mse: 0.0342 - val_loss: 0.0427 - val_last_time_step_mse: 0.0337\n",
            "Epoch 6/20\n",
            "219/219 [==============================] - 36s 164ms/step - loss: 0.0408 - last_time_step_mse: 0.0302 - val_loss: 0.0392 - val_last_time_step_mse: 0.0291\n",
            "Epoch 7/20\n",
            "219/219 [==============================] - 36s 164ms/step - loss: 0.0384 - last_time_step_mse: 0.0281 - val_loss: 0.0370 - val_last_time_step_mse: 0.0268\n",
            "Epoch 8/20\n",
            "219/219 [==============================] - 36s 165ms/step - loss: 0.0366 - last_time_step_mse: 0.0265 - val_loss: 0.0358 - val_last_time_step_mse: 0.0258\n",
            "Epoch 9/20\n",
            "219/219 [==============================] - 36s 164ms/step - loss: 0.0356 - last_time_step_mse: 0.0255 - val_loss: 0.0346 - val_last_time_step_mse: 0.0241\n",
            "Epoch 10/20\n",
            "219/219 [==============================] - 36s 163ms/step - loss: 0.0346 - last_time_step_mse: 0.0242 - val_loss: 0.0338 - val_last_time_step_mse: 0.0227\n",
            "Epoch 11/20\n",
            "219/219 [==============================] - 36s 166ms/step - loss: 0.0334 - last_time_step_mse: 0.0223 - val_loss: 0.0322 - val_last_time_step_mse: 0.0202\n",
            "Epoch 12/20\n",
            "219/219 [==============================] - 38s 172ms/step - loss: 0.0321 - last_time_step_mse: 0.0203 - val_loss: 0.0313 - val_last_time_step_mse: 0.0195\n",
            "Epoch 13/20\n",
            "219/219 [==============================] - 36s 163ms/step - loss: 0.0315 - last_time_step_mse: 0.0194 - val_loss: 0.0304 - val_last_time_step_mse: 0.0179\n",
            "Epoch 14/20\n",
            "219/219 [==============================] - 36s 166ms/step - loss: 0.0310 - last_time_step_mse: 0.0186 - val_loss: 0.0314 - val_last_time_step_mse: 0.0188\n",
            "Epoch 15/20\n",
            "219/219 [==============================] - 35s 162ms/step - loss: 0.0304 - last_time_step_mse: 0.0179 - val_loss: 0.0297 - val_last_time_step_mse: 0.0173\n",
            "Epoch 16/20\n",
            "219/219 [==============================] - 36s 165ms/step - loss: 0.0298 - last_time_step_mse: 0.0174 - val_loss: 0.0296 - val_last_time_step_mse: 0.0176\n",
            "Epoch 17/20\n",
            "219/219 [==============================] - 36s 163ms/step - loss: 0.0293 - last_time_step_mse: 0.0168 - val_loss: 0.0286 - val_last_time_step_mse: 0.0159\n",
            "Epoch 18/20\n",
            "219/219 [==============================] - 36s 164ms/step - loss: 0.0287 - last_time_step_mse: 0.0161 - val_loss: 0.0280 - val_last_time_step_mse: 0.0150\n",
            "Epoch 19/20\n",
            "219/219 [==============================] - 39s 178ms/step - loss: 0.0281 - last_time_step_mse: 0.0154 - val_loss: 0.0275 - val_last_time_step_mse: 0.0140\n",
            "Epoch 20/20\n",
            "219/219 [==============================] - 35s 161ms/step - loss: 0.0271 - last_time_step_mse: 0.0143 - val_loss: 0.0268 - val_last_time_step_mse: 0.0138\n"
          ]
        }
      ]
    },
    {
      "cell_type": "markdown",
      "source": [
        "## LSTM"
      ],
      "metadata": {
        "id": "EpKRg0Cqambe"
      }
    },
    {
      "cell_type": "code",
      "source": [
        "# Long Short-Term Memory\n",
        "np.random.seed(42)\n",
        "tf.random.set_seed(42)\n",
        "\n",
        "model = keras.models.Sequential([\n",
        "    keras.layers.LSTM(20, return_sequences=True, input_shape=[None, 1]),\n",
        "    keras.layers.LSTM(20, return_sequences=True),\n",
        "    keras.layers.TimeDistributed(keras.layers.Dense(10))\n",
        "])\n",
        "\n",
        "model.compile(loss=\"mse\", optimizer=\"adam\", metrics=[last_time_step_mse])\n",
        "history = model.fit(X_train, Y_train, epochs=20,\n",
        "                    validation_data=(X_valid, Y_valid))"
      ],
      "metadata": {
        "colab": {
          "base_uri": "https://localhost:8080/"
        },
        "id": "qPuzlesLZcE0",
        "outputId": "a4ad593f-f589-4d3b-b10d-cd464cd0025a"
      },
      "execution_count": 34,
      "outputs": [
        {
          "output_type": "stream",
          "name": "stdout",
          "text": [
            "Epoch 1/20\n",
            "219/219 [==============================] - 7s 12ms/step - loss: 0.0775 - last_time_step_mse: 0.0624 - val_loss: 0.0523 - val_last_time_step_mse: 0.0301\n",
            "Epoch 2/20\n",
            "219/219 [==============================] - 2s 9ms/step - loss: 0.0458 - last_time_step_mse: 0.0241 - val_loss: 0.0403 - val_last_time_step_mse: 0.0177\n",
            "Epoch 3/20\n",
            "219/219 [==============================] - 2s 9ms/step - loss: 0.0375 - last_time_step_mse: 0.0165 - val_loss: 0.0357 - val_last_time_step_mse: 0.0150\n",
            "Epoch 4/20\n",
            "219/219 [==============================] - 2s 9ms/step - loss: 0.0345 - last_time_step_mse: 0.0152 - val_loss: 0.0332 - val_last_time_step_mse: 0.0140\n",
            "Epoch 5/20\n",
            "219/219 [==============================] - 2s 9ms/step - loss: 0.0325 - last_time_step_mse: 0.0143 - val_loss: 0.0319 - val_last_time_step_mse: 0.0139\n",
            "Epoch 6/20\n",
            "219/219 [==============================] - 2s 9ms/step - loss: 0.0311 - last_time_step_mse: 0.0136 - val_loss: 0.0304 - val_last_time_step_mse: 0.0132\n",
            "Epoch 7/20\n",
            "219/219 [==============================] - 2s 9ms/step - loss: 0.0300 - last_time_step_mse: 0.0129 - val_loss: 0.0293 - val_last_time_step_mse: 0.0122\n",
            "Epoch 8/20\n",
            "219/219 [==============================] - 2s 9ms/step - loss: 0.0289 - last_time_step_mse: 0.0122 - val_loss: 0.0284 - val_last_time_step_mse: 0.0117\n",
            "Epoch 9/20\n",
            "219/219 [==============================] - 2s 9ms/step - loss: 0.0281 - last_time_step_mse: 0.0118 - val_loss: 0.0277 - val_last_time_step_mse: 0.0113\n",
            "Epoch 10/20\n",
            "219/219 [==============================] - 2s 9ms/step - loss: 0.0274 - last_time_step_mse: 0.0113 - val_loss: 0.0272 - val_last_time_step_mse: 0.0111\n",
            "Epoch 11/20\n",
            "219/219 [==============================] - 2s 9ms/step - loss: 0.0266 - last_time_step_mse: 0.0105 - val_loss: 0.0259 - val_last_time_step_mse: 0.0098\n",
            "Epoch 12/20\n",
            "219/219 [==============================] - 2s 9ms/step - loss: 0.0260 - last_time_step_mse: 0.0101 - val_loss: 0.0257 - val_last_time_step_mse: 0.0100\n",
            "Epoch 13/20\n",
            "219/219 [==============================] - 2s 9ms/step - loss: 0.0253 - last_time_step_mse: 0.0094 - val_loss: 0.0250 - val_last_time_step_mse: 0.0093\n",
            "Epoch 14/20\n",
            "219/219 [==============================] - 2s 9ms/step - loss: 0.0249 - last_time_step_mse: 0.0091 - val_loss: 0.0244 - val_last_time_step_mse: 0.0084\n",
            "Epoch 15/20\n",
            "219/219 [==============================] - 2s 9ms/step - loss: 0.0244 - last_time_step_mse: 0.0088 - val_loss: 0.0241 - val_last_time_step_mse: 0.0084\n",
            "Epoch 16/20\n",
            "219/219 [==============================] - 2s 9ms/step - loss: 0.0242 - last_time_step_mse: 0.0088 - val_loss: 0.0240 - val_last_time_step_mse: 0.0084\n",
            "Epoch 17/20\n",
            "219/219 [==============================] - 2s 9ms/step - loss: 0.0238 - last_time_step_mse: 0.0086 - val_loss: 0.0239 - val_last_time_step_mse: 0.0085\n",
            "Epoch 18/20\n",
            "219/219 [==============================] - 2s 9ms/step - loss: 0.0236 - last_time_step_mse: 0.0084 - val_loss: 0.0236 - val_last_time_step_mse: 0.0086\n",
            "Epoch 19/20\n",
            "219/219 [==============================] - 2s 9ms/step - loss: 0.0233 - last_time_step_mse: 0.0082 - val_loss: 0.0235 - val_last_time_step_mse: 0.0096\n",
            "Epoch 20/20\n",
            "219/219 [==============================] - 2s 9ms/step - loss: 0.0230 - last_time_step_mse: 0.0082 - val_loss: 0.0229 - val_last_time_step_mse: 0.0078\n"
          ]
        }
      ]
    },
    {
      "cell_type": "code",
      "source": [
        "model.evaluate(X_valid, Y_valid)"
      ],
      "metadata": {
        "colab": {
          "base_uri": "https://localhost:8080/"
        },
        "id": "_Opo9aOeaubr",
        "outputId": "cf2179ba-70be-4460-8d35-4e682ba28cf8"
      },
      "execution_count": 35,
      "outputs": [
        {
          "output_type": "stream",
          "name": "stdout",
          "text": [
            "63/63 [==============================] - 0s 5ms/step - loss: 0.0229 - last_time_step_mse: 0.0078\n"
          ]
        },
        {
          "output_type": "execute_result",
          "data": {
            "text/plain": [
              "[0.022926831617951393, 0.007782985456287861]"
            ]
          },
          "metadata": {},
          "execution_count": 35
        }
      ]
    },
    {
      "cell_type": "markdown",
      "source": [
        "## 1D convolution layer (Non-causal)"
      ],
      "metadata": {
        "id": "b7mW8KS1dRai"
      }
    },
    {
      "cell_type": "code",
      "source": [
        "# Stride를 이용하여 down sampling 효과\n",
        "np.random.seed(42)\n",
        "tf.random.set_seed(42)\n",
        "\n",
        "model = keras.models.Sequential([\n",
        "    keras.layers.Conv1D(filters=20, kernel_size=4, strides=2, padding=\"valid\",\n",
        "                        input_shape=[None, 1]),\n",
        "    keras.layers.GRU(20, return_sequences=True),\n",
        "    keras.layers.GRU(20, return_sequences=True),\n",
        "    keras.layers.TimeDistributed(keras.layers.Dense(10))\n",
        "])\n",
        "\n",
        "model.compile(loss=\"mse\", optimizer=\"adam\", metrics=[last_time_step_mse])\n",
        "history = model.fit(X_train, Y_train[:, 3::2], epochs=20,\n",
        "                    validation_data=(X_valid, Y_valid[:, 3::2]))"
      ],
      "metadata": {
        "colab": {
          "base_uri": "https://localhost:8080/"
        },
        "id": "_OCNaSr4auhK",
        "outputId": "d51d0eb5-c0f5-4390-d42c-8c0681636391"
      },
      "execution_count": 36,
      "outputs": [
        {
          "output_type": "stream",
          "name": "stdout",
          "text": [
            "Epoch 1/20\n",
            "219/219 [==============================] - 10s 11ms/step - loss: 0.0695 - last_time_step_mse: 0.0618 - val_loss: 0.0471 - val_last_time_step_mse: 0.0393\n",
            "Epoch 2/20\n",
            "219/219 [==============================] - 2s 8ms/step - loss: 0.0393 - last_time_step_mse: 0.0318 - val_loss: 0.0348 - val_last_time_step_mse: 0.0261\n",
            "Epoch 3/20\n",
            "219/219 [==============================] - 2s 7ms/step - loss: 0.0320 - last_time_step_mse: 0.0227 - val_loss: 0.0296 - val_last_time_step_mse: 0.0195\n",
            "Epoch 4/20\n",
            "219/219 [==============================] - 2s 7ms/step - loss: 0.0281 - last_time_step_mse: 0.0175 - val_loss: 0.0270 - val_last_time_step_mse: 0.0166\n",
            "Epoch 5/20\n",
            "219/219 [==============================] - 2s 7ms/step - loss: 0.0260 - last_time_step_mse: 0.0151 - val_loss: 0.0254 - val_last_time_step_mse: 0.0148\n",
            "Epoch 6/20\n",
            "219/219 [==============================] - 2s 8ms/step - loss: 0.0245 - last_time_step_mse: 0.0133 - val_loss: 0.0237 - val_last_time_step_mse: 0.0124\n",
            "Epoch 7/20\n",
            "219/219 [==============================] - 2s 7ms/step - loss: 0.0234 - last_time_step_mse: 0.0121 - val_loss: 0.0234 - val_last_time_step_mse: 0.0124\n",
            "Epoch 8/20\n",
            "219/219 [==============================] - 2s 8ms/step - loss: 0.0226 - last_time_step_mse: 0.0114 - val_loss: 0.0225 - val_last_time_step_mse: 0.0113\n",
            "Epoch 9/20\n",
            "219/219 [==============================] - 2s 8ms/step - loss: 0.0222 - last_time_step_mse: 0.0110 - val_loss: 0.0224 - val_last_time_step_mse: 0.0116\n",
            "Epoch 10/20\n",
            "219/219 [==============================] - 2s 7ms/step - loss: 0.0217 - last_time_step_mse: 0.0107 - val_loss: 0.0215 - val_last_time_step_mse: 0.0104\n",
            "Epoch 11/20\n",
            "219/219 [==============================] - 2s 7ms/step - loss: 0.0214 - last_time_step_mse: 0.0104 - val_loss: 0.0211 - val_last_time_step_mse: 0.0100\n",
            "Epoch 12/20\n",
            "219/219 [==============================] - 2s 7ms/step - loss: 0.0212 - last_time_step_mse: 0.0103 - val_loss: 0.0208 - val_last_time_step_mse: 0.0098\n",
            "Epoch 13/20\n",
            "219/219 [==============================] - 2s 7ms/step - loss: 0.0208 - last_time_step_mse: 0.0099 - val_loss: 0.0210 - val_last_time_step_mse: 0.0103\n",
            "Epoch 14/20\n",
            "219/219 [==============================] - 2s 7ms/step - loss: 0.0206 - last_time_step_mse: 0.0098 - val_loss: 0.0206 - val_last_time_step_mse: 0.0102\n",
            "Epoch 15/20\n",
            "219/219 [==============================] - 2s 7ms/step - loss: 0.0204 - last_time_step_mse: 0.0097 - val_loss: 0.0201 - val_last_time_step_mse: 0.0094\n",
            "Epoch 16/20\n",
            "219/219 [==============================] - 2s 8ms/step - loss: 0.0201 - last_time_step_mse: 0.0096 - val_loss: 0.0200 - val_last_time_step_mse: 0.0094\n",
            "Epoch 17/20\n",
            "219/219 [==============================] - 2s 7ms/step - loss: 0.0198 - last_time_step_mse: 0.0093 - val_loss: 0.0198 - val_last_time_step_mse: 0.0090\n",
            "Epoch 18/20\n",
            "219/219 [==============================] - 2s 7ms/step - loss: 0.0196 - last_time_step_mse: 0.0092 - val_loss: 0.0196 - val_last_time_step_mse: 0.0088\n",
            "Epoch 19/20\n",
            "219/219 [==============================] - 2s 7ms/step - loss: 0.0194 - last_time_step_mse: 0.0090 - val_loss: 0.0195 - val_last_time_step_mse: 0.0092\n",
            "Epoch 20/20\n",
            "219/219 [==============================] - 2s 8ms/step - loss: 0.0190 - last_time_step_mse: 0.0086 - val_loss: 0.0189 - val_last_time_step_mse: 0.0083\n"
          ]
        }
      ]
    },
    {
      "cell_type": "markdown",
      "source": [
        "## WaveNet (causal convolution)"
      ],
      "metadata": {
        "id": "GGDPJKcLdhU_"
      }
    },
    {
      "cell_type": "code",
      "source": [
        "# Dilated convolution으로 매우 긴 receptive field를 효율적으로 구현 가능 \n",
        "np.random.seed(42)\n",
        "tf.random.set_seed(42)\n",
        "\n",
        "model = keras.models.Sequential()\n",
        "model.add(keras.layers.InputLayer(input_shape=[None, 1]))\n",
        "for rate in (1, 2, 4, 8) * 2:\n",
        "    model.add(keras.layers.Conv1D(filters=20, kernel_size=2, padding=\"causal\",\n",
        "                                  activation=\"relu\", dilation_rate=rate))\n",
        "model.add(keras.layers.Conv1D(filters=10, kernel_size=1))\n",
        "model.compile(loss=\"mse\", optimizer=\"adam\", metrics=[last_time_step_mse])\n",
        "history = model.fit(X_train, Y_train, epochs=20,\n",
        "                    validation_data=(X_valid, Y_valid))"
      ],
      "metadata": {
        "colab": {
          "base_uri": "https://localhost:8080/"
        },
        "id": "sTFhAbNuaujI",
        "outputId": "917f3481-11b5-482a-b15d-aea044f08ae8"
      },
      "execution_count": 37,
      "outputs": [
        {
          "output_type": "stream",
          "name": "stdout",
          "text": [
            "Epoch 1/20\n",
            "219/219 [==============================] - 5s 9ms/step - loss: 0.0653 - last_time_step_mse: 0.0532 - val_loss: 0.0374 - val_last_time_step_mse: 0.0224\n",
            "Epoch 2/20\n",
            "219/219 [==============================] - 2s 7ms/step - loss: 0.0339 - last_time_step_mse: 0.0203 - val_loss: 0.0307 - val_last_time_step_mse: 0.0172\n",
            "Epoch 3/20\n",
            "219/219 [==============================] - 2s 7ms/step - loss: 0.0292 - last_time_step_mse: 0.0164 - val_loss: 0.0277 - val_last_time_step_mse: 0.0150\n",
            "Epoch 4/20\n",
            "219/219 [==============================] - 2s 8ms/step - loss: 0.0268 - last_time_step_mse: 0.0143 - val_loss: 0.0260 - val_last_time_step_mse: 0.0132\n",
            "Epoch 5/20\n",
            "219/219 [==============================] - 2s 8ms/step - loss: 0.0254 - last_time_step_mse: 0.0131 - val_loss: 0.0249 - val_last_time_step_mse: 0.0123\n",
            "Epoch 6/20\n",
            "219/219 [==============================] - 2s 8ms/step - loss: 0.0244 - last_time_step_mse: 0.0121 - val_loss: 0.0238 - val_last_time_step_mse: 0.0112\n",
            "Epoch 7/20\n",
            "219/219 [==============================] - 2s 8ms/step - loss: 0.0238 - last_time_step_mse: 0.0117 - val_loss: 0.0234 - val_last_time_step_mse: 0.0114\n",
            "Epoch 8/20\n",
            "219/219 [==============================] - 2s 7ms/step - loss: 0.0229 - last_time_step_mse: 0.0108 - val_loss: 0.0227 - val_last_time_step_mse: 0.0105\n",
            "Epoch 9/20\n",
            "219/219 [==============================] - 2s 7ms/step - loss: 0.0225 - last_time_step_mse: 0.0106 - val_loss: 0.0232 - val_last_time_step_mse: 0.0120\n",
            "Epoch 10/20\n",
            "219/219 [==============================] - 2s 7ms/step - loss: 0.0222 - last_time_step_mse: 0.0103 - val_loss: 0.0216 - val_last_time_step_mse: 0.0098\n",
            "Epoch 11/20\n",
            "219/219 [==============================] - 2s 7ms/step - loss: 0.0217 - last_time_step_mse: 0.0099 - val_loss: 0.0214 - val_last_time_step_mse: 0.0096\n",
            "Epoch 12/20\n",
            "219/219 [==============================] - 2s 8ms/step - loss: 0.0214 - last_time_step_mse: 0.0096 - val_loss: 0.0214 - val_last_time_step_mse: 0.0102\n",
            "Epoch 13/20\n",
            "219/219 [==============================] - 2s 8ms/step - loss: 0.0209 - last_time_step_mse: 0.0092 - val_loss: 0.0208 - val_last_time_step_mse: 0.0091\n",
            "Epoch 14/20\n",
            "219/219 [==============================] - 2s 7ms/step - loss: 0.0206 - last_time_step_mse: 0.0089 - val_loss: 0.0202 - val_last_time_step_mse: 0.0086\n",
            "Epoch 15/20\n",
            "219/219 [==============================] - 2s 8ms/step - loss: 0.0203 - last_time_step_mse: 0.0085 - val_loss: 0.0197 - val_last_time_step_mse: 0.0082\n",
            "Epoch 16/20\n",
            "219/219 [==============================] - 2s 8ms/step - loss: 0.0200 - last_time_step_mse: 0.0085 - val_loss: 0.0199 - val_last_time_step_mse: 0.0083\n",
            "Epoch 17/20\n",
            "219/219 [==============================] - 2s 8ms/step - loss: 0.0197 - last_time_step_mse: 0.0082 - val_loss: 0.0193 - val_last_time_step_mse: 0.0078\n",
            "Epoch 18/20\n",
            "219/219 [==============================] - 2s 7ms/step - loss: 0.0193 - last_time_step_mse: 0.0078 - val_loss: 0.0188 - val_last_time_step_mse: 0.0074\n",
            "Epoch 19/20\n",
            "219/219 [==============================] - 2s 8ms/step - loss: 0.0190 - last_time_step_mse: 0.0075 - val_loss: 0.0188 - val_last_time_step_mse: 0.0074\n",
            "Epoch 20/20\n",
            "219/219 [==============================] - 2s 7ms/step - loss: 0.0187 - last_time_step_mse: 0.0073 - val_loss: 0.0185 - val_last_time_step_mse: 0.0070\n"
          ]
        }
      ]
    }
  ]
}