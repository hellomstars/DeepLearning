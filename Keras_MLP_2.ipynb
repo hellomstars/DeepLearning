{
  "cells": [
    {
      "cell_type": "markdown",
      "metadata": {
        "id": "view-in-github",
        "colab_type": "text"
      },
      "source": [
        "<a href=\"https://colab.research.google.com/github/hellomstars/DeepLearning/blob/main/Keras_MLP_2.ipynb\" target=\"_parent\"><img src=\"https://colab.research.google.com/assets/colab-badge.svg\" alt=\"Open In Colab\"/></a>"
      ]
    },
    {
      "cell_type": "markdown",
      "id": "f0ca56fd",
      "metadata": {
        "id": "f0ca56fd"
      },
      "source": [
        "# Keras를 사용한 MLP 구현\n"
      ]
    },
    {
      "cell_type": "markdown",
      "id": "0b318e67",
      "metadata": {
        "id": "0b318e67"
      },
      "source": [
        "## Sequential API를 사용한 regression MLP"
      ]
    },
    {
      "cell_type": "code",
      "execution_count": null,
      "id": "6fe9b5f0",
      "metadata": {
        "id": "6fe9b5f0"
      },
      "outputs": [],
      "source": [
        "import tensorflow as tf\n",
        "from tensorflow import keras\n",
        "\n",
        "import pandas as pd\n",
        "import numpy as np\n",
        "import matplotlib.pyplot as plt"
      ]
    },
    {
      "cell_type": "code",
      "execution_count": null,
      "id": "aba6dff6",
      "metadata": {
        "id": "aba6dff6"
      },
      "outputs": [],
      "source": [
        "from sklearn.datasets import fetch_california_housing #캘리포니아 주택 데이터셋을 로드\n",
        "from sklearn.model_selection import train_test_split\n",
        "from sklearn.preprocessing import StandardScaler\n",
        "\n",
        "housing = fetch_california_housing()\n",
        "\n",
        "X_train_full, X_test, y_train_full, y_test = train_test_split(housing.data, housing.target, random_state=42) #데이터셋을 분리\n",
        "X_train, X_valid, y_train, y_valid = train_test_split(X_train_full, y_train_full, random_state=42) #검증을 위해 train, valid, test 데이터로 분리\n",
        "\n",
        "scaler = StandardScaler() #표준화\n",
        "X_train = scaler.fit_transform(X_train) #train 데이터를 학습시키면서 스케일링한다.\n",
        "X_valid = scaler.transform(X_valid) #valid 데이터를 스케일링한다.\n",
        "X_test = scaler.transform(X_test) #test 데이터를 스케일링한다."
      ]
    },
    {
      "cell_type": "markdown",
      "id": "5f2f5162",
      "metadata": {
        "id": "5f2f5162"
      },
      "source": [
        "### MSE loss funtion 사용"
      ]
    },
    {
      "cell_type": "code",
      "execution_count": null,
      "id": "83f67a15",
      "metadata": {
        "id": "83f67a15",
        "outputId": "bdf11cac-769b-4a4f-86ea-c10f83998ed8"
      },
      "outputs": [
        {
          "name": "stdout",
          "output_type": "stream",
          "text": [
            "Epoch 1/20\n",
            "363/363 [==============================] - 2s 3ms/step - loss: 2.5160 - val_loss: 1.2468\n",
            "Epoch 2/20\n",
            "363/363 [==============================] - 1s 2ms/step - loss: 0.9055 - val_loss: 0.7865\n",
            "Epoch 3/20\n",
            "363/363 [==============================] - 1s 2ms/step - loss: 0.8032 - val_loss: 0.7747\n",
            "Epoch 4/20\n",
            "363/363 [==============================] - 1s 2ms/step - loss: 0.7532 - val_loss: 0.6962\n",
            "Epoch 5/20\n",
            "363/363 [==============================] - 1s 1ms/step - loss: 0.7098 - val_loss: 0.7340\n",
            "Epoch 6/20\n",
            "363/363 [==============================] - 0s 1ms/step - loss: 0.6760 - val_loss: 0.6678\n",
            "Epoch 7/20\n",
            "363/363 [==============================] - 1s 2ms/step - loss: 0.6437 - val_loss: 0.6769\n",
            "Epoch 8/20\n",
            "363/363 [==============================] - 1s 2ms/step - loss: 0.6164 - val_loss: 0.5645\n",
            "Epoch 9/20\n",
            "363/363 [==============================] - 1s 2ms/step - loss: 0.5901 - val_loss: 0.5666\n",
            "Epoch 10/20\n",
            "363/363 [==============================] - 1s 2ms/step - loss: 0.5678 - val_loss: 0.5224\n",
            "Epoch 11/20\n",
            "363/363 [==============================] - 1s 2ms/step - loss: 0.5466 - val_loss: 0.5237\n",
            "Epoch 12/20\n",
            "363/363 [==============================] - 1s 2ms/step - loss: 0.5293 - val_loss: 0.4801\n",
            "Epoch 13/20\n",
            "363/363 [==============================] - 0s 1ms/step - loss: 0.5127 - val_loss: 0.4790\n",
            "Epoch 14/20\n",
            "363/363 [==============================] - 1s 2ms/step - loss: 0.4990 - val_loss: 0.4529\n",
            "Epoch 15/20\n",
            "363/363 [==============================] - 1s 2ms/step - loss: 0.4868 - val_loss: 0.4409\n",
            "Epoch 16/20\n",
            "363/363 [==============================] - 1s 3ms/step - loss: 0.4765 - val_loss: 0.4310\n",
            "Epoch 17/20\n",
            "363/363 [==============================] - 1s 3ms/step - loss: 0.4672 - val_loss: 0.4277\n",
            "Epoch 18/20\n",
            "363/363 [==============================] - 1s 2ms/step - loss: 0.4594 - val_loss: 0.4158\n",
            "Epoch 19/20\n",
            "363/363 [==============================] - 1s 2ms/step - loss: 0.4528 - val_loss: 0.4153\n",
            "Epoch 20/20\n",
            "363/363 [==============================] - 0s 1ms/step - loss: 0.4472 - val_loss: 0.4106\n",
            "162/162 [==============================] - 0s 1ms/step - loss: 0.4366\n",
            "1/1 [==============================] - 0s 176ms/step\n"
          ]
        }
      ],
      "source": [
        "model = keras.models.Sequential([\n",
        "    keras.layers.Dense(30, activation=\"relu\", input_shape=X_train.shape[1:]), #은닉층에서 활동하는 뉴런의 수 30개, relu 활성화 함수, 입력벡터 크기. flatten 없이 input_shape로 첫째 데이터 정해줄 수 있다.\n",
        "    keras.layers.Dense(1) #출력층. 출력되는 결과값은 1개\n",
        "])\n",
        "model.compile(loss=\"mean_squared_error\", optimizer=keras.optimizers.SGD(learning_rate=1e-3)) #regression의 손실함수 중 MSE 사용. 경사하강법 최적화.\n",
        "history = model.fit(X_train, y_train, epochs=20, validation_data=(X_valid, y_valid)) #20번 학습 실행\n",
        "mse_test = model.evaluate(X_test, y_test)\n",
        "X_new = X_test[:3]\n",
        "y_pred = model.predict(X_new)"
      ]
    },
    {
      "cell_type": "code",
      "execution_count": null,
      "id": "bafe82da",
      "metadata": {
        "id": "bafe82da",
        "outputId": "97bbc9cc-b0a3-4f7c-caa6-55ab1f0814f3"
      },
      "outputs": [
        {
          "data": {
            "image/png": "[encoded data removed]",
            "text/plain": [
              "<Figure size 432x288 with 1 Axes>"
            ]
          },
          "metadata": {
            "needs_background": "light"
          },
          "output_type": "display_data"
        }
      ],
      "source": [
        "plt.plot(pd.DataFrame(history.history)) #train, test데이터의 epoch에 따른 loss 값 출력\n",
        "plt.grid(True)\n",
        "plt.gca().set_ylim(0, 1)\n",
        "plt.show()"
      ]
    },
    {
      "cell_type": "code",
      "execution_count": null,
      "id": "6dd420db",
      "metadata": {
        "id": "6dd420db",
        "outputId": "6cd050c1-b33f-4d16-ca55-b7bd2c1dbfdb"
      },
      "outputs": [
        {
          "data": {
            "text/plain": [
              "array([[0.69615567],\n",
              "       [1.6534257 ],\n",
              "       [3.1996484 ]], dtype=float32)"
            ]
          },
          "execution_count": 5,
          "metadata": {},
          "output_type": "execute_result"
        }
      ],
      "source": [
        "y_pred #예측값 출력"
      ]
    },
    {
      "cell_type": "markdown",
      "id": "6b48fc5b",
      "metadata": {
        "id": "6b48fc5b"
      },
      "source": [
        "## Functional API를 사용한 regression MLP"
      ]
    },
    {
      "cell_type": "markdown",
      "id": "091808ff",
      "metadata": {
        "id": "091808ff"
      },
      "source": [
        "### Wide&Deep"
      ]
    },
    {
      "cell_type": "code",
      "execution_count": null,
      "id": "81e7cd13",
      "metadata": {
        "id": "81e7cd13"
      },
      "outputs": [],
      "source": [
        "np.random.seed(42)\n",
        "tf.random.set_seed(42)"
      ]
    },
    {
      "cell_type": "code",
      "execution_count": null,
      "id": "6ba8dc07",
      "metadata": {
        "id": "6ba8dc07"
      },
      "outputs": [],
      "source": [
        "input_ = keras.layers.Input(shape=X_train.shape[1:]) #입력층\n",
        "hidden1 = keras.layers.Dense(30, activation=\"relu\")(input_) #30개 layer 은닉층1, relu 활성화함수\n",
        "hidden2 = keras.layers.Dense(30, activation=\"relu\")(hidden1) #30개 layer 은닉층2, relu 활성화함수\n",
        "concat = keras.layers.concatenate([input_, hidden2]) #결합층. 입력층과 은닉층2를 연결해준다.\n",
        "output = keras.layers.Dense(1)(concat) #출력층\n",
        "model = keras.models.Model(inputs=[input_], outputs=[output]) #입력, 출력이 지정된 모델 생성"
      ]
    },
    {
      "cell_type": "code",
      "execution_count": null,
      "id": "6bc4cf84",
      "metadata": {
        "id": "6bc4cf84",
        "outputId": "e3919bda-f523-49f6-d127-442eb2348433"
      },
      "outputs": [
        {
          "name": "stdout",
          "output_type": "stream",
          "text": [
            "Model: \"model\"\n",
            "__________________________________________________________________________________________________\n",
            " Layer (type)                   Output Shape         Param #     Connected to                     \n",
            "==================================================================================================\n",
            " input_1 (InputLayer)           [(None, 8)]          0           []                               \n",
            "                                                                                                  \n",
            " dense_2 (Dense)                (None, 30)           270         ['input_1[0][0]']                \n",
            "                                                                                                  \n",
            " dense_3 (Dense)                (None, 30)           930         ['dense_2[0][0]']                \n",
            "                                                                                                  \n",
            " concatenate (Concatenate)      (None, 38)           0           ['input_1[0][0]',                \n",
            "                                                                  'dense_3[0][0]']                \n",
            "                                                                                                  \n",
            " dense_4 (Dense)                (None, 1)            39          ['concatenate[0][0]']            \n",
            "                                                                                                  \n",
            "==================================================================================================\n",
            "Total params: 1,239\n",
            "Trainable params: 1,239\n",
            "Non-trainable params: 0\n",
            "__________________________________________________________________________________________________\n"
          ]
        }
      ],
      "source": [
        "model.summary()"
      ]
    },
    {
      "cell_type": "code",
      "execution_count": null,
      "id": "9fdd050d",
      "metadata": {
        "id": "9fdd050d",
        "outputId": "a2f685c2-11d8-432b-8658-b3cec42bcdca"
      },
      "outputs": [
        {
          "name": "stdout",
          "output_type": "stream",
          "text": [
            "Epoch 1/20\n",
            "363/363 [==============================] - 2s 2ms/step - loss: 1.9841 - val_loss: 1.1812\n",
            "Epoch 2/20\n",
            "363/363 [==============================] - 1s 2ms/step - loss: 0.6992 - val_loss: 0.6510\n",
            "Epoch 3/20\n",
            "363/363 [==============================] - 1s 2ms/step - loss: 0.6211 - val_loss: 0.6243\n",
            "Epoch 4/20\n",
            "363/363 [==============================] - 0s 1ms/step - loss: 0.5824 - val_loss: 0.6221\n",
            "Epoch 5/20\n",
            "363/363 [==============================] - 0s 1ms/step - loss: 0.5527 - val_loss: 0.5393\n",
            "Epoch 6/20\n",
            "363/363 [==============================] - 1s 2ms/step - loss: 0.5300 - val_loss: 0.5064\n",
            "Epoch 7/20\n",
            "363/363 [==============================] - 1s 2ms/step - loss: 0.5143 - val_loss: 0.5156\n",
            "Epoch 8/20\n",
            "363/363 [==============================] - 1s 2ms/step - loss: 0.5031 - val_loss: 0.5685\n",
            "Epoch 9/20\n",
            "363/363 [==============================] - 1s 2ms/step - loss: 0.4903 - val_loss: 0.4885\n",
            "Epoch 10/20\n",
            "363/363 [==============================] - 1s 2ms/step - loss: 0.4817 - val_loss: 0.4623\n",
            "Epoch 11/20\n",
            "363/363 [==============================] - 1s 2ms/step - loss: 0.4745 - val_loss: 0.6142\n",
            "Epoch 12/20\n",
            "363/363 [==============================] - 0s 1ms/step - loss: 0.4674 - val_loss: 0.5730\n",
            "Epoch 13/20\n",
            "363/363 [==============================] - 0s 1ms/step - loss: 0.4637 - val_loss: 0.4798\n",
            "Epoch 14/20\n",
            "363/363 [==============================] - 1s 2ms/step - loss: 0.4562 - val_loss: 0.4347\n",
            "Epoch 15/20\n",
            "363/363 [==============================] - 1s 2ms/step - loss: 0.4517 - val_loss: 0.4391\n",
            "Epoch 16/20\n",
            "363/363 [==============================] - 1s 2ms/step - loss: 0.4469 - val_loss: 0.4189\n",
            "Epoch 17/20\n",
            "363/363 [==============================] - 1s 2ms/step - loss: 0.4434 - val_loss: 0.4416\n",
            "Epoch 18/20\n",
            "363/363 [==============================] - 1s 2ms/step - loss: 0.4393 - val_loss: 0.4364\n",
            "Epoch 19/20\n",
            "363/363 [==============================] - 1s 1ms/step - loss: 0.4353 - val_loss: 0.4105\n",
            "Epoch 20/20\n",
            "363/363 [==============================] - 1s 1ms/step - loss: 0.4325 - val_loss: 0.4633\n",
            "162/162 [==============================] - 0s 1ms/step - loss: 0.4244\n",
            "1/1 [==============================] - 0s 102ms/step\n"
          ]
        }
      ],
      "source": [
        "model.compile(loss=\"mean_squared_error\", optimizer=keras.optimizers.SGD(learning_rate=1e-3)) #MSE 손실함수 사용. 경사하강법 최적화.\n",
        "\n",
        "history = model.fit(X_train, y_train, epochs=20,\n",
        "                    validation_data=(X_valid, y_valid)) #20번 학습 훈련\n",
        "mse_test = model.evaluate(X_test, y_test)\n",
        "y_pred = model.predict(X_new)"
      ]
    },
    {
      "cell_type": "code",
      "execution_count": null,
      "id": "6641c0bf",
      "metadata": {
        "id": "6641c0bf",
        "outputId": "d0b5cd0e-f6cc-4002-9643-b251d4ad4f1c"
      },
      "outputs": [
        {
          "data": {
            "image/png": "[encoded data removed]",
            "text/plain": [
              "<Figure size 432x288 with 1 Axes>"
            ]
          },
          "metadata": {
            "needs_background": "light"
          },
          "output_type": "display_data"
        }
      ],
      "source": [
        "plt.plot(pd.DataFrame(history.history)) #train, test데이터의 epoch에 따른 loss 값 출력\n",
        "plt.grid(True)\n",
        "plt.gca().set_ylim(0, 1)\n",
        "plt.show()"
      ]
    },
    {
      "cell_type": "markdown",
      "id": "f665e62b",
      "metadata": {
        "id": "f665e62b"
      },
      "source": [
        "### Wide&Deep - Multiple input"
      ]
    },
    {
      "cell_type": "code",
      "execution_count": null,
      "id": "00086eea",
      "metadata": {
        "id": "00086eea"
      },
      "outputs": [],
      "source": [
        "#입력층 2개. 5개의 특성을 와이드 경로, 6개의 특성을 딥 경로에 전달. 겹치는 3개의 특성은 양쪽에 모두 전달된다.\n",
        "input_A = keras.layers.Input(shape=[5], name=\"wide_input\")\n",
        "input_B = keras.layers.Input(shape=[6], name=\"deep_input\")\n",
        "hidden1 = keras.layers.Dense(30, activation=\"relu\")(input_B)\n",
        "hidden2 = keras.layers.Dense(30, activation=\"relu\")(hidden1)\n",
        "concat = keras.layers.concatenate([input_A, hidden2])\n",
        "output = keras.layers.Dense(1, name=\"output\")(concat)\n",
        "model = keras.models.Model(inputs=[input_A, input_B], outputs=[output])"
      ]
    },
    {
      "cell_type": "code",
      "execution_count": null,
      "id": "dfaceacb",
      "metadata": {
        "id": "dfaceacb",
        "outputId": "ddb62d8f-ac57-42f0-cf37-d4b46fbce062"
      },
      "outputs": [
        {
          "name": "stdout",
          "output_type": "stream",
          "text": [
            "Model: \"model_1\"\n",
            "__________________________________________________________________________________________________\n",
            " Layer (type)                   Output Shape         Param #     Connected to                     \n",
            "==================================================================================================\n",
            " deep_input (InputLayer)        [(None, 6)]          0           []                               \n",
            "                                                                                                  \n",
            " dense_5 (Dense)                (None, 30)           210         ['deep_input[0][0]']             \n",
            "                                                                                                  \n",
            " wide_input (InputLayer)        [(None, 5)]          0           []                               \n",
            "                                                                                                  \n",
            " dense_6 (Dense)                (None, 30)           930         ['dense_5[0][0]']                \n",
            "                                                                                                  \n",
            " concatenate_1 (Concatenate)    (None, 35)           0           ['wide_input[0][0]',             \n",
            "                                                                  'dense_6[0][0]']                \n",
            "                                                                                                  \n",
            " output (Dense)                 (None, 1)            36          ['concatenate_1[0][0]']          \n",
            "                                                                                                  \n",
            "==================================================================================================\n",
            "Total params: 1,176\n",
            "Trainable params: 1,176\n",
            "Non-trainable params: 0\n",
            "__________________________________________________________________________________________________\n"
          ]
        }
      ],
      "source": [
        "model.summary()"
      ]
    },
    {
      "cell_type": "code",
      "execution_count": null,
      "id": "bf0403fe",
      "metadata": {
        "id": "bf0403fe",
        "outputId": "6b3d739c-4e6f-4d8a-c539-8ed6e4709c5a"
      },
      "outputs": [
        {
          "name": "stdout",
          "output_type": "stream",
          "text": [
            "Epoch 1/20\n",
            "363/363 [==============================] - 1s 2ms/step - loss: 1.7797 - val_loss: 0.9529\n",
            "Epoch 2/20\n",
            "363/363 [==============================] - 0s 1ms/step - loss: 0.6743 - val_loss: 0.5973\n",
            "Epoch 3/20\n",
            "363/363 [==============================] - 1s 2ms/step - loss: 0.5981 - val_loss: 0.5445\n",
            "Epoch 4/20\n",
            "363/363 [==============================] - 1s 2ms/step - loss: 0.5584 - val_loss: 0.5564\n",
            "Epoch 5/20\n",
            "363/363 [==============================] - 0s 1ms/step - loss: 0.5327 - val_loss: 0.5041\n",
            "Epoch 6/20\n",
            "363/363 [==============================] - 0s 1ms/step - loss: 0.5098 - val_loss: 0.4791\n",
            "Epoch 7/20\n",
            "363/363 [==============================] - 0s 1ms/step - loss: 0.4945 - val_loss: 0.4530\n",
            "Epoch 8/20\n",
            "363/363 [==============================] - 0s 1ms/step - loss: 0.4808 - val_loss: 0.4398\n",
            "Epoch 9/20\n",
            "363/363 [==============================] - 1s 2ms/step - loss: 0.4698 - val_loss: 0.4536\n",
            "Epoch 10/20\n",
            "363/363 [==============================] - 1s 2ms/step - loss: 0.4621 - val_loss: 0.4253\n",
            "Epoch 11/20\n",
            "363/363 [==============================] - 1s 2ms/step - loss: 0.4554 - val_loss: 0.4165\n",
            "Epoch 12/20\n",
            "363/363 [==============================] - 1s 2ms/step - loss: 0.4503 - val_loss: 0.4335\n",
            "Epoch 13/20\n",
            "363/363 [==============================] - 1s 2ms/step - loss: 0.4463 - val_loss: 0.4135\n",
            "Epoch 14/20\n",
            "363/363 [==============================] - 0s 1ms/step - loss: 0.4420 - val_loss: 0.4037\n",
            "Epoch 15/20\n",
            "363/363 [==============================] - 0s 1ms/step - loss: 0.4393 - val_loss: 0.4018\n",
            "Epoch 16/20\n",
            "363/363 [==============================] - 0s 1ms/step - loss: 0.4359 - val_loss: 0.3988\n",
            "Epoch 17/20\n",
            "363/363 [==============================] - 1s 1ms/step - loss: 0.4325 - val_loss: 0.4129\n",
            "Epoch 18/20\n",
            "363/363 [==============================] - 1s 2ms/step - loss: 0.4313 - val_loss: 0.4018\n",
            "Epoch 19/20\n",
            "363/363 [==============================] - 1s 1ms/step - loss: 0.4282 - val_loss: 0.4002\n",
            "Epoch 20/20\n",
            "363/363 [==============================] - 0s 1ms/step - loss: 0.4260 - val_loss: 0.4310\n",
            "162/162 [==============================] - 0s 1ms/step - loss: 0.4228\n",
            "1/1 [==============================] - 0s 63ms/step\n"
          ]
        }
      ],
      "source": [
        "model.compile(loss=\"mse\", optimizer=keras.optimizers.SGD(learning_rate=1e-3))\n",
        "\n",
        "X_train_A, X_train_B = X_train[:, :5], X_train[:, 2:] #train 데이터를 나눈다\n",
        "X_valid_A, X_valid_B = X_valid[:, :5], X_valid[:, 2:] #valid 데이터를 나눈다\n",
        "X_test_A, X_test_B = X_test[:, :5], X_test[:, 2:] #test 데이터를 나눈다\n",
        "X_new_A, X_new_B = X_test_A[:3], X_test_B[:3] #예측을 위해 new 데이터를 나눈다\n",
        "\n",
        "history = model.fit((X_train_A, X_train_B), y_train, epochs=20,\n",
        "                    validation_data=((X_valid_A, X_valid_B), y_valid))\n",
        "mse_test = model.evaluate((X_test_A, X_test_B), y_test)\n",
        "y_pred = model.predict((X_new_A, X_new_B))"
      ]
    },
    {
      "cell_type": "code",
      "execution_count": null,
      "id": "2cd071ee",
      "metadata": {
        "id": "2cd071ee",
        "outputId": "78a89e66-aa26-41df-d657-fe1e650463ad"
      },
      "outputs": [
        {
          "data": {
            "image/png": "[encoded data removed]",
            "text/plain": [
              "<Figure size 432x288 with 1 Axes>"
            ]
          },
          "metadata": {
            "needs_background": "light"
          },
          "output_type": "display_data"
        }
      ],
      "source": [
        "plt.plot(pd.DataFrame(history.history)) #train, test데이터의 epoch에 따른 loss 값 출력\n",
        "plt.grid(True)\n",
        "plt.gca().set_ylim(0, 1)\n",
        "plt.show()"
      ]
    },
    {
      "cell_type": "markdown",
      "id": "60e1a16e",
      "metadata": {
        "id": "60e1a16e"
      },
      "source": [
        "### 규제를 위해 보조 출력층 추가 (입력과 출력이 multiple)"
      ]
    },
    {
      "cell_type": "code",
      "execution_count": null,
      "id": "ca2722e3",
      "metadata": {
        "id": "ca2722e3"
      },
      "outputs": [],
      "source": [
        "input_A = keras.layers.Input(shape=[5], name=\"wide_input\")\n",
        "input_B = keras.layers.Input(shape=[6], name=\"deep_input\")\n",
        "hidden1 = keras.layers.Dense(30, activation=\"relu\")(input_B)\n",
        "hidden2 = keras.layers.Dense(30, activation=\"relu\")(hidden1)\n",
        "concat = keras.layers.concatenate([input_A, hidden2])\n",
        "output = keras.layers.Dense(1, name=\"main_output\")(concat)\n",
        "aux_output = keras.layers.Dense(1, name=\"aux_output\")(hidden2) #출력층 추가\n",
        "model = keras.models.Model(inputs=[input_A, input_B],\n",
        "                           outputs=[output, aux_output])"
      ]
    },
    {
      "cell_type": "code",
      "execution_count": null,
      "id": "9063d6cb",
      "metadata": {
        "id": "9063d6cb"
      },
      "outputs": [],
      "source": [
        "model.compile(loss=[\"mse\", \"mse\"], loss_weights=[0.9, 0.1], optimizer=keras.optimizers.SGD(learning_rate=1e-3)) #모델 각각에 mse 손실 함수 사용하고 가중치를 지정해준다"
      ]
    },
    {
      "cell_type": "code",
      "execution_count": null,
      "id": "4d599488",
      "metadata": {
        "id": "4d599488",
        "outputId": "796a1ad2-7d02-476a-fdf7-702c4d4faf30"
      },
      "outputs": [
        {
          "name": "stdout",
          "output_type": "stream",
          "text": [
            "Epoch 1/20\n",
            "363/363 [==============================] - 1s 2ms/step - loss: 2.4414 - main_output_loss: 2.2847 - aux_output_loss: 3.8521 - val_loss: 5.8677 - val_main_output_loss: 6.0233 - val_aux_output_loss: 4.4672\n",
            "Epoch 2/20\n",
            "363/363 [==============================] - 0s 1ms/step - loss: 1.0771 - main_output_loss: 0.9225 - aux_output_loss: 2.4685 - val_loss: 3.1438 - val_main_output_loss: 2.9918 - val_aux_output_loss: 4.5116\n",
            "Epoch 3/20\n",
            "363/363 [==============================] - 1s 1ms/step - loss: 0.8586 - main_output_loss: 0.7451 - aux_output_loss: 1.8809 - val_loss: 1.7922 - val_main_output_loss: 1.5400 - val_aux_output_loss: 4.0619\n",
            "Epoch 4/20\n",
            "363/363 [==============================] - 1s 2ms/step - loss: 0.7678 - main_output_loss: 0.6708 - aux_output_loss: 1.6409 - val_loss: 1.2555 - val_main_output_loss: 0.9951 - val_aux_output_loss: 3.5992\n",
            "Epoch 5/20\n",
            "363/363 [==============================] - 1s 2ms/step - loss: 0.7195 - main_output_loss: 0.6291 - aux_output_loss: 1.5330 - val_loss: 0.9383 - val_main_output_loss: 0.6914 - val_aux_output_loss: 3.1600\n",
            "Epoch 6/20\n",
            "363/363 [==============================] - 1s 2ms/step - loss: 0.6862 - main_output_loss: 0.5989 - aux_output_loss: 1.4718 - val_loss: 0.8072 - val_main_output_loss: 0.5839 - val_aux_output_loss: 2.8170\n",
            "Epoch 7/20\n",
            "363/363 [==============================] - 1s 2ms/step - loss: 0.6599 - main_output_loss: 0.5747 - aux_output_loss: 1.4268 - val_loss: 0.7388 - val_main_output_loss: 0.5384 - val_aux_output_loss: 2.5426\n",
            "Epoch 8/20\n",
            "363/363 [==============================] - 1s 2ms/step - loss: 0.6376 - main_output_loss: 0.5542 - aux_output_loss: 1.3880 - val_loss: 0.7004 - val_main_output_loss: 0.5226 - val_aux_output_loss: 2.3004\n",
            "Epoch 9/20\n",
            "363/363 [==============================] - 0s 1ms/step - loss: 0.6179 - main_output_loss: 0.5361 - aux_output_loss: 1.3539 - val_loss: 0.6769 - val_main_output_loss: 0.5192 - val_aux_output_loss: 2.0959\n",
            "Epoch 10/20\n",
            "363/363 [==============================] - 1s 1ms/step - loss: 0.6006 - main_output_loss: 0.5206 - aux_output_loss: 1.3209 - val_loss: 0.6637 - val_main_output_loss: 0.5252 - val_aux_output_loss: 1.9107\n",
            "Epoch 11/20\n",
            "363/363 [==============================] - 1s 1ms/step - loss: 0.5858 - main_output_loss: 0.5075 - aux_output_loss: 1.2909 - val_loss: 0.6382 - val_main_output_loss: 0.5119 - val_aux_output_loss: 1.7750\n",
            "Epoch 12/20\n",
            "363/363 [==============================] - 1s 2ms/step - loss: 0.5726 - main_output_loss: 0.4960 - aux_output_loss: 1.2615 - val_loss: 0.6267 - val_main_output_loss: 0.5134 - val_aux_output_loss: 1.6467\n",
            "Epoch 13/20\n",
            "363/363 [==============================] - 1s 2ms/step - loss: 0.5611 - main_output_loss: 0.4864 - aux_output_loss: 1.2332 - val_loss: 0.6005 - val_main_output_loss: 0.4952 - val_aux_output_loss: 1.5480\n",
            "Epoch 14/20\n",
            "363/363 [==============================] - 1s 2ms/step - loss: 0.5510 - main_output_loss: 0.4783 - aux_output_loss: 1.2059 - val_loss: 0.5793 - val_main_output_loss: 0.4814 - val_aux_output_loss: 1.4609\n",
            "Epoch 15/20\n",
            "363/363 [==============================] - 1s 2ms/step - loss: 0.5421 - main_output_loss: 0.4712 - aux_output_loss: 1.1798 - val_loss: 0.5600 - val_main_output_loss: 0.4685 - val_aux_output_loss: 1.3829\n",
            "Epoch 16/20\n",
            "363/363 [==============================] - 1s 2ms/step - loss: 0.5341 - main_output_loss: 0.4652 - aux_output_loss: 1.1543 - val_loss: 0.5406 - val_main_output_loss: 0.4542 - val_aux_output_loss: 1.3181\n",
            "Epoch 17/20\n",
            "363/363 [==============================] - 0s 1ms/step - loss: 0.5270 - main_output_loss: 0.4600 - aux_output_loss: 1.1301 - val_loss: 0.5234 - val_main_output_loss: 0.4414 - val_aux_output_loss: 1.2609\n",
            "Epoch 18/20\n",
            "363/363 [==============================] - 1s 2ms/step - loss: 0.5205 - main_output_loss: 0.4554 - aux_output_loss: 1.1066 - val_loss: 0.5102 - val_main_output_loss: 0.4326 - val_aux_output_loss: 1.2090\n",
            "Epoch 19/20\n",
            "363/363 [==============================] - 1s 2ms/step - loss: 0.5144 - main_output_loss: 0.4511 - aux_output_loss: 1.0844 - val_loss: 0.4992 - val_main_output_loss: 0.4257 - val_aux_output_loss: 1.1614\n",
            "Epoch 20/20\n",
            "363/363 [==============================] - 1s 2ms/step - loss: 0.5094 - main_output_loss: 0.4480 - aux_output_loss: 1.0624 - val_loss: 0.4894 - val_main_output_loss: 0.4192 - val_aux_output_loss: 1.1213\n"
          ]
        }
      ],
      "source": [
        "history = model.fit([X_train_A, X_train_B], [y_train, y_train], epochs=20,\n",
        "                    validation_data=([X_valid_A, X_valid_B], [y_valid, y_valid]))"
      ]
    },
    {
      "cell_type": "code",
      "execution_count": null,
      "id": "4db36c8a",
      "metadata": {
        "id": "4db36c8a",
        "outputId": "51454003-d255-47fb-e361-32b36e5b431a"
      },
      "outputs": [
        {
          "name": "stdout",
          "output_type": "stream",
          "text": [
            "162/162 [==============================] - 0s 1ms/step - loss: 0.5079 - main_output_loss: 0.4483 - aux_output_loss: 1.0437\n",
            "1/1 [==============================] - 0s 122ms/step\n"
          ]
        }
      ],
      "source": [
        "total_loss, main_loss, aux_loss = model.evaluate(\n",
        "    [X_test_A, X_test_B], [y_test, y_test])\n",
        "\n",
        "y_pred_main, y_pred_aux = model.predict([X_new_A, X_new_B])"
      ]
    },
    {
      "cell_type": "markdown",
      "id": "6dcd08aa",
      "metadata": {
        "id": "6dcd08aa"
      },
      "source": [
        "## Subclassing API를 사용한 동적 모델"
      ]
    },
    {
      "cell_type": "code",
      "execution_count": null,
      "id": "233b503f",
      "metadata": {
        "id": "233b503f"
      },
      "outputs": [],
      "source": [
        "class WideAndDeepModel(keras.models.Model): #클래스 선언은 재활용할 수 있는 경우에 적합\n",
        "    def __init__(self, units=30, activation=\"relu\", **kwargs):\n",
        "        super().__init__(**kwargs) #표준 매개변수 처리\n",
        "        self.hidden1 = keras.layers.Dense(units, activation=activation)\n",
        "        self.hidden2 = keras.layers.Dense(units, activation=activation)\n",
        "        self.main_output = keras.layers.Dense(1)\n",
        "        self.aux_output = keras.layers.Dense(1)\n",
        "        \n",
        "    def call(self, inputs): #호출\n",
        "        input_A, input_B = inputs\n",
        "        hidden1 = self.hidden1(input_B)\n",
        "        hidden2 = self.hidden2(hidden1)\n",
        "        concat = keras.layers.concatenate([input_A, hidden2])\n",
        "        main_output = self.main_output(concat)\n",
        "        aux_output = self.aux_output(hidden2)\n",
        "        return main_output, aux_output\n",
        "\n",
        "model = WideAndDeepModel(30, activation=\"relu\") #실제 모델 사용 코드"
      ]
    },
    {
      "cell_type": "code",
      "execution_count": null,
      "id": "87c33c0e",
      "metadata": {
        "id": "87c33c0e",
        "outputId": "ba0d84d4-18c2-4dba-f592-a1e95e1855ea"
      },
      "outputs": [
        {
          "name": "stdout",
          "output_type": "stream",
          "text": [
            "Epoch 1/10\n",
            "363/363 [==============================] - 1s 2ms/step - loss: 2.8918 - output_1_loss: 2.6140 - output_2_loss: 5.3925 - val_loss: 1.4956 - val_output_1_loss: 1.1805 - val_output_2_loss: 4.3319\n",
            "Epoch 2/10\n",
            "363/363 [==============================] - 0s 1ms/step - loss: 1.1779 - output_1_loss: 0.9266 - output_2_loss: 3.4396 - val_loss: 1.3124 - val_output_1_loss: 0.8828 - val_output_2_loss: 5.1789\n",
            "Epoch 3/10\n",
            "363/363 [==============================] - 1s 2ms/step - loss: 0.8892 - output_1_loss: 0.7267 - output_2_loss: 2.3525 - val_loss: 1.3821 - val_output_1_loss: 0.8493 - val_output_2_loss: 6.1774\n",
            "Epoch 4/10\n",
            "363/363 [==============================] - 1s 2ms/step - loss: 0.7828 - output_1_loss: 0.6655 - output_2_loss: 1.8390 - val_loss: 1.1719 - val_output_1_loss: 0.6349 - val_output_2_loss: 6.0050\n",
            "Epoch 5/10\n",
            "363/363 [==============================] - 1s 2ms/step - loss: 0.7234 - output_1_loss: 0.6274 - output_2_loss: 1.5875 - val_loss: 1.0399 - val_output_1_loss: 0.5864 - val_output_2_loss: 5.1215\n",
            "Epoch 6/10\n",
            "363/363 [==============================] - 0s 1ms/step - loss: 0.6826 - output_1_loss: 0.5973 - output_2_loss: 1.4506 - val_loss: 0.9347 - val_output_1_loss: 0.5852 - val_output_2_loss: 4.0796\n",
            "Epoch 7/10\n",
            "363/363 [==============================] - 1s 1ms/step - loss: 0.6492 - output_1_loss: 0.5703 - output_2_loss: 1.3587 - val_loss: 0.8158 - val_output_1_loss: 0.5558 - val_output_2_loss: 3.1562\n",
            "Epoch 8/10\n",
            "363/363 [==============================] - 1s 2ms/step - loss: 0.6216 - output_1_loss: 0.5470 - output_2_loss: 1.2936 - val_loss: 0.6952 - val_output_1_loss: 0.5076 - val_output_2_loss: 2.3842\n",
            "Epoch 9/10\n",
            "363/363 [==============================] - 1s 1ms/step - loss: 0.5962 - output_1_loss: 0.5245 - output_2_loss: 1.2415 - val_loss: 0.6360 - val_output_1_loss: 0.5000 - val_output_2_loss: 1.8603\n",
            "Epoch 10/10\n",
            "363/363 [==============================] - 1s 2ms/step - loss: 0.5755 - output_1_loss: 0.5062 - output_2_loss: 1.1990 - val_loss: 0.5939 - val_output_1_loss: 0.4959 - val_output_2_loss: 1.4764\n",
            "162/162 [==============================] - 0s 796us/step - loss: 0.5620 - output_1_loss: 0.4929 - output_2_loss: 1.1844\n",
            "WARNING:tensorflow:5 out of the last 5 calls to <function Model.make_predict_function.<locals>.predict_function at 0x000002679CDBD820> triggered tf.function retracing. Tracing is expensive and the excessive number of tracings could be due to (1) creating @tf.function repeatedly in a loop, (2) passing tensors with different shapes, (3) passing Python objects instead of tensors. For (1), please define your @tf.function outside of the loop. For (2), @tf.function has reduce_retracing=True option that can avoid unnecessary retracing. For (3), please refer to https://www.tensorflow.org/guide/function#controlling_retracing and https://www.tensorflow.org/api_docs/python/tf/function for  more details.\n",
            "1/1 [==============================] - 0s 65ms/step\n"
          ]
        }
      ],
      "source": [
        "model.compile(loss=\"mse\", loss_weights=[0.9, 0.1], optimizer=keras.optimizers.SGD(learning_rate=1e-3))\n",
        "history = model.fit((X_train_A, X_train_B), (y_train, y_train), epochs=10,\n",
        "                    validation_data=((X_valid_A, X_valid_B), (y_valid, y_valid)))\n",
        "total_loss, main_loss, aux_loss = model.evaluate((X_test_A, X_test_B), (y_test, y_test))\n",
        "y_pred_main, y_pred_aux = model.predict((X_new_A, X_new_B))"
      ]
    },
    {
      "cell_type": "markdown",
      "id": "e7cd3c8f",
      "metadata": {
        "id": "e7cd3c8f"
      },
      "source": [
        "## 저장과 복원"
      ]
    },
    {
      "cell_type": "code",
      "execution_count": null,
      "id": "2cb8cc54",
      "metadata": {
        "id": "2cb8cc54",
        "outputId": "c16d38bf-8b70-420a-b9ea-3b23f1cb5112"
      },
      "outputs": [
        {
          "name": "stdout",
          "output_type": "stream",
          "text": [
            "Epoch 1/10\n",
            "363/363 [==============================] - 1s 2ms/step - loss: 2.6741 - val_loss: 1.6513\n",
            "Epoch 2/10\n",
            "363/363 [==============================] - 1s 1ms/step - loss: 0.7370 - val_loss: 0.6355\n",
            "Epoch 3/10\n",
            "363/363 [==============================] - 1s 2ms/step - loss: 0.6404 - val_loss: 0.5979\n",
            "Epoch 4/10\n",
            "363/363 [==============================] - 1s 2ms/step - loss: 0.5985 - val_loss: 0.5523\n",
            "Epoch 5/10\n",
            "363/363 [==============================] - 1s 2ms/step - loss: 0.5656 - val_loss: 0.5181\n",
            "Epoch 6/10\n",
            "363/363 [==============================] - 1s 2ms/step - loss: 0.5366 - val_loss: 0.4911\n",
            "Epoch 7/10\n",
            "363/363 [==============================] - 1s 2ms/step - loss: 0.5127 - val_loss: 0.4695\n",
            "Epoch 8/10\n",
            "363/363 [==============================] - 0s 1ms/step - loss: 0.4920 - val_loss: 0.4498\n",
            "Epoch 9/10\n",
            "363/363 [==============================] - 0s 1ms/step - loss: 0.4747 - val_loss: 0.4343\n",
            "Epoch 10/10\n",
            "363/363 [==============================] - 0s 1ms/step - loss: 0.4603 - val_loss: 0.4220\n",
            "162/162 [==============================] - 0s 818us/step - loss: 0.4392\n"
          ]
        }
      ],
      "source": [
        "#모델 생성\n",
        "model = keras.models.Sequential([\n",
        "    keras.layers.Dense(30, activation=\"relu\", input_shape=[8]),\n",
        "    keras.layers.Dense(30, activation=\"relu\"),\n",
        "    keras.layers.Dense(1)\n",
        "])\n",
        "model.compile(loss=\"mse\", optimizer=keras.optimizers.SGD(learning_rate=1e-3))\n",
        "history = model.fit(X_train, y_train, epochs=10, validation_data=(X_valid, y_valid))\n",
        "mse_test = model.evaluate(X_test, y_test)"
      ]
    },
    {
      "cell_type": "code",
      "execution_count": null,
      "id": "9b1c5972",
      "metadata": {
        "id": "9b1c5972"
      },
      "outputs": [],
      "source": [
        "model.save(\"my_keras_model.h5\") #모델 저장"
      ]
    },
    {
      "cell_type": "code",
      "execution_count": null,
      "id": "09a43c78",
      "metadata": {
        "id": "09a43c78"
      },
      "outputs": [],
      "source": [
        "model = keras.models.load_model(\"my_keras_model.h5\") #불러오기"
      ]
    },
    {
      "cell_type": "code",
      "execution_count": null,
      "id": "7052f43a",
      "metadata": {
        "id": "7052f43a",
        "outputId": "de94204e-0d83-42aa-f60e-2740ddecac63"
      },
      "outputs": [
        {
          "name": "stdout",
          "output_type": "stream",
          "text": [
            "WARNING:tensorflow:6 out of the last 6 calls to <function Model.make_predict_function.<locals>.predict_function at 0x000002679CA303A0> triggered tf.function retracing. Tracing is expensive and the excessive number of tracings could be due to (1) creating @tf.function repeatedly in a loop, (2) passing tensors with different shapes, (3) passing Python objects instead of tensors. For (1), please define your @tf.function outside of the loop. For (2), @tf.function has reduce_retracing=True option that can avoid unnecessary retracing. For (3), please refer to https://www.tensorflow.org/guide/function#controlling_retracing and https://www.tensorflow.org/api_docs/python/tf/function for  more details.\n",
            "1/1 [==============================] - 0s 48ms/step\n"
          ]
        },
        {
          "data": {
            "text/plain": [
              "array([[0.70601255],\n",
              "       [1.3752093 ],\n",
              "       [3.1718638 ]], dtype=float32)"
            ]
          },
          "execution_count": 25,
          "metadata": {},
          "output_type": "execute_result"
        }
      ],
      "source": [
        "model.predict(X_new) #불러온 모델로 예측"
      ]
    },
    {
      "cell_type": "markdown",
      "id": "3048e721",
      "metadata": {
        "id": "3048e721"
      },
      "source": [
        "## Callback 사용"
      ]
    },
    {
      "cell_type": "code",
      "execution_count": null,
      "id": "895cd26e",
      "metadata": {
        "id": "895cd26e"
      },
      "outputs": [],
      "source": [
        "keras.backend.clear_session()\n",
        "\n",
        "model = keras.models.Sequential([\n",
        "    keras.layers.Dense(30, activation=\"relu\", input_shape=[8]),\n",
        "    keras.layers.Dense(30, activation=\"relu\"),\n",
        "    keras.layers.Dense(1)\n",
        "])#모델 생성\n",
        "\n",
        "model.compile(loss=\"mse\", optimizer=keras.optimizers.SGD(learning_rate=1e-3)) #모델 컴파일"
      ]
    },
    {
      "cell_type": "code",
      "execution_count": null,
      "id": "b747ec2e",
      "metadata": {
        "id": "b747ec2e",
        "outputId": "5c6dfcb4-2be9-4aa8-f9b1-a939ef78f231"
      },
      "outputs": [
        {
          "name": "stdout",
          "output_type": "stream",
          "text": [
            "Epoch 1/10\n",
            "363/363 [==============================] - 1s 2ms/step - loss: 1.6075 - val_loss: 1.6124\n",
            "Epoch 2/10\n",
            "363/363 [==============================] - 0s 1ms/step - loss: 0.7078 - val_loss: 0.6510\n",
            "Epoch 3/10\n",
            "363/363 [==============================] - 1s 2ms/step - loss: 0.6253 - val_loss: 0.5791\n",
            "Epoch 4/10\n",
            "363/363 [==============================] - 1s 2ms/step - loss: 0.5718 - val_loss: 0.5287\n",
            "Epoch 5/10\n",
            "363/363 [==============================] - 1s 2ms/step - loss: 0.5311 - val_loss: 0.4883\n",
            "Epoch 6/10\n",
            "363/363 [==============================] - 1s 2ms/step - loss: 0.4982 - val_loss: 0.4589\n",
            "Epoch 7/10\n",
            "363/363 [==============================] - 0s 1ms/step - loss: 0.4735 - val_loss: 0.4354\n",
            "Epoch 8/10\n",
            "363/363 [==============================] - 0s 1ms/step - loss: 0.4540 - val_loss: 0.4215\n",
            "Epoch 9/10\n",
            "363/363 [==============================] - 0s 1ms/step - loss: 0.4395 - val_loss: 0.4093\n",
            "Epoch 10/10\n",
            "363/363 [==============================] - 0s 1ms/step - loss: 0.4288 - val_loss: 0.4115\n",
            "162/162 [==============================] - 0s 879us/step - loss: 0.4315\n"
          ]
        }
      ],
      "source": [
        "checkpoint_cb = keras.callbacks.ModelCheckpoint(\"my_keras_model.h5\", save_best_only=True) #validation 관련 loss를 통해 판단\n",
        "history = model.fit(X_train, y_train, epochs=10,\n",
        "                    validation_data=(X_valid, y_valid),\n",
        "                    callbacks=[checkpoint_cb])\n",
        "model = keras.models.load_model(\"my_keras_model.h5\") # 최상의 모델로 복원\n",
        "mse_test = model.evaluate(X_test, y_test)"
      ]
    },
    {
      "cell_type": "code",
      "execution_count": null,
      "id": "e544e0f9",
      "metadata": {
        "id": "e544e0f9",
        "outputId": "9146733b-5b24-4245-c6c6-b7f7c87f87b9"
      },
      "outputs": [
        {
          "name": "stdout",
          "output_type": "stream",
          "text": [
            "Epoch 1/100\n",
            "363/363 [==============================] - 1s 2ms/step - loss: 0.4210 - val_loss: 0.4136\n",
            "Epoch 2/100\n",
            "363/363 [==============================] - 0s 1ms/step - loss: 0.4150 - val_loss: 0.4323\n",
            "Epoch 3/100\n",
            "363/363 [==============================] - 1s 2ms/step - loss: 0.4104 - val_loss: 0.4230\n",
            "Epoch 4/100\n",
            "363/363 [==============================] - 1s 1ms/step - loss: 0.4066 - val_loss: 0.4455\n",
            "Epoch 5/100\n",
            "363/363 [==============================] - 1s 2ms/step - loss: 0.4037 - val_loss: 0.4301\n",
            "Epoch 6/100\n",
            "363/363 [==============================] - 0s 1ms/step - loss: 0.4006 - val_loss: 0.4394\n",
            "Epoch 7/100\n",
            "363/363 [==============================] - 0s 1ms/step - loss: 0.3985 - val_loss: 0.4651\n",
            "Epoch 8/100\n",
            "363/363 [==============================] - 0s 1ms/step - loss: 0.3963 - val_loss: 0.4328\n",
            "Epoch 9/100\n",
            "363/363 [==============================] - 0s 1ms/step - loss: 0.3942 - val_loss: 0.4345\n",
            "Epoch 10/100\n",
            "363/363 [==============================] - 1s 2ms/step - loss: 0.3923 - val_loss: 0.4506\n",
            "Epoch 11/100\n",
            "363/363 [==============================] - 1s 2ms/step - loss: 0.3910 - val_loss: 0.4256\n",
            "162/162 [==============================] - 0s 1ms/step - loss: 0.4170\n"
          ]
        }
      ],
      "source": [
        "model.compile(loss=\"mse\", optimizer=keras.optimizers.SGD(learning_rate=1e-3)) #모델 컴파일\n",
        "early_stopping_cb = keras.callbacks.EarlyStopping(patience=10,\n",
        "                                                  restore_best_weights=True) #조기종료 판단 기준 설정. 10번 연속으로 좋아지는 값 없으면 멈추고 훈련 끝났을 때 최적의 모델 save. 이는 overfitting 막기 위함.\n",
        "history = model.fit(X_train, y_train, epochs=100,\n",
        "                    validation_data=(X_valid, y_valid),\n",
        "                    callbacks=[checkpoint_cb, early_stopping_cb]) #세운 기준만큼 훈련 후 종료하면 save\n",
        "mse_test = model.evaluate(X_test, y_test)"
      ]
    },
    {
      "cell_type": "code",
      "execution_count": null,
      "id": "914728b9",
      "metadata": {
        "id": "914728b9"
      },
      "outputs": [],
      "source": [
        "class PrintValTrainRatioCallback(keras.callbacks.Callback):\n",
        "    def on_epoch_end(self, epoch, logs): #콜백 재정의 가능\n",
        "        print(\"\\nval/train: {:.2f}\".format(logs[\"val_loss\"] / logs[\"loss\"]))"
      ]
    },
    {
      "cell_type": "code",
      "execution_count": null,
      "id": "76175d80",
      "metadata": {
        "id": "76175d80",
        "outputId": "e29a040f-49c8-48e6-d594-0647c2035a78"
      },
      "outputs": [
        {
          "name": "stdout",
          "output_type": "stream",
          "text": [
            "357/363 [============================>.] - ETA: 0s - loss: 0.4147\n",
            "val/train: 1.01\n",
            "363/363 [==============================] - 1s 2ms/step - loss: 0.4150 - val_loss: 0.4191\n"
          ]
        }
      ],
      "source": [
        "val_train_ratio_cb = PrintValTrainRatioCallback()\n",
        "history = model.fit(X_train, y_train, epochs=1,\n",
        "                    validation_data=(X_valid, y_valid),\n",
        "                    callbacks=[val_train_ratio_cb])"
      ]
    },
    {
      "cell_type": "markdown",
      "id": "b69ac278",
      "metadata": {
        "id": "b69ac278"
      },
      "source": [
        "## Tensorboard 사용한 시각화"
      ]
    },
    {
      "cell_type": "code",
      "execution_count": null,
      "id": "b2dea221",
      "metadata": {
        "id": "b2dea221"
      },
      "outputs": [],
      "source": [
        "import os\n",
        "root_logdir = os.path.join(os.curdir, \"my_logs\") #콜백과정에서 나온 로그 저장"
      ]
    },
    {
      "cell_type": "code",
      "execution_count": null,
      "id": "a29eb81f",
      "metadata": {
        "id": "a29eb81f",
        "outputId": "618b0c43-6fd3-48db-e320-4acd97da458c"
      },
      "outputs": [
        {
          "data": {
            "text/plain": [
              "'.\\\\my_logs\\\\run_2022_10_09-20_41_01'"
            ]
          },
          "execution_count": 33,
          "metadata": {},
          "output_type": "execute_result"
        }
      ],
      "source": [
        "def get_run_logdir():\n",
        "    import time\n",
        "    run_id = time.strftime(\"run_%Y_%m_%d-%H_%M_%S\")\n",
        "    return os.path.join(root_logdir, run_id)\n",
        "\n",
        "run_logdir = get_run_logdir()\n",
        "run_logdir"
      ]
    },
    {
      "cell_type": "code",
      "execution_count": null,
      "id": "92d14108",
      "metadata": {
        "id": "92d14108"
      },
      "outputs": [],
      "source": [
        "#모델 구성과 컴파일\n",
        "model = keras.models.Sequential([\n",
        "    keras.layers.Dense(30, activation=\"relu\", input_shape=[8]),\n",
        "    keras.layers.Dense(30, activation=\"relu\"),\n",
        "    keras.layers.Dense(1)\n",
        "])    \n",
        "model.compile(loss=\"mse\", optimizer=keras.optimizers.SGD(learning_rate=1e-3))"
      ]
    },
    {
      "cell_type": "code",
      "execution_count": null,
      "id": "58dd8b2f",
      "metadata": {
        "id": "58dd8b2f",
        "outputId": "56f30ae5-b2aa-4346-efec-d86cb19bdac2"
      },
      "outputs": [
        {
          "name": "stdout",
          "output_type": "stream",
          "text": [
            "Epoch 1/30\n",
            "363/363 [==============================] - 1s 2ms/step - loss: 1.7969 - val_loss: 1.0110\n",
            "Epoch 2/30\n",
            "363/363 [==============================] - 1s 2ms/step - loss: 0.8109 - val_loss: 0.7656\n",
            "Epoch 3/30\n",
            "363/363 [==============================] - 1s 2ms/step - loss: 0.7460 - val_loss: 0.7211\n",
            "Epoch 4/30\n",
            "363/363 [==============================] - 0s 1ms/step - loss: 0.7007 - val_loss: 0.6535\n",
            "Epoch 5/30\n",
            "363/363 [==============================] - 0s 1ms/step - loss: 0.6649 - val_loss: 0.6144\n",
            "Epoch 6/30\n",
            "363/363 [==============================] - 0s 1ms/step - loss: 0.6332 - val_loss: 0.5849\n",
            "Epoch 7/30\n",
            "363/363 [==============================] - 0s 1ms/step - loss: 0.6065 - val_loss: 0.5600\n",
            "Epoch 8/30\n",
            "363/363 [==============================] - 1s 2ms/step - loss: 0.5825 - val_loss: 0.5382\n",
            "Epoch 9/30\n",
            "363/363 [==============================] - 1s 2ms/step - loss: 0.5612 - val_loss: 0.5196\n",
            "Epoch 10/30\n",
            "363/363 [==============================] - 1s 2ms/step - loss: 0.5423 - val_loss: 0.5032\n",
            "Epoch 11/30\n",
            "363/363 [==============================] - 0s 1ms/step - loss: 0.5259 - val_loss: 0.4931\n",
            "Epoch 12/30\n",
            "363/363 [==============================] - 0s 1ms/step - loss: 0.5111 - val_loss: 0.4786\n",
            "Epoch 13/30\n",
            "363/363 [==============================] - 0s 1ms/step - loss: 0.4984 - val_loss: 0.4688\n",
            "Epoch 14/30\n",
            "363/363 [==============================] - 0s 1ms/step - loss: 0.4872 - val_loss: 0.4589\n",
            "Epoch 15/30\n",
            "363/363 [==============================] - 0s 1ms/step - loss: 0.4773 - val_loss: 0.4527\n",
            "Epoch 16/30\n",
            "363/363 [==============================] - 1s 2ms/step - loss: 0.4685 - val_loss: 0.4468\n",
            "Epoch 17/30\n",
            "363/363 [==============================] - 1s 1ms/step - loss: 0.4606 - val_loss: 0.4451\n",
            "Epoch 18/30\n",
            "363/363 [==============================] - 1s 2ms/step - loss: 0.4538 - val_loss: 0.4421\n",
            "Epoch 19/30\n",
            "363/363 [==============================] - 0s 1ms/step - loss: 0.4470 - val_loss: 0.4308\n",
            "Epoch 20/30\n",
            "363/363 [==============================] - 1s 1ms/step - loss: 0.4417 - val_loss: 0.4482\n",
            "Epoch 21/30\n",
            "363/363 [==============================] - 0s 1ms/step - loss: 0.4363 - val_loss: 0.4398\n",
            "Epoch 22/30\n",
            "363/363 [==============================] - 0s 1ms/step - loss: 0.4316 - val_loss: 0.4424\n",
            "Epoch 23/30\n",
            "363/363 [==============================] - 0s 1ms/step - loss: 0.4271 - val_loss: 0.4136\n",
            "Epoch 24/30\n",
            "363/363 [==============================] - 0s 1ms/step - loss: 0.4228 - val_loss: 0.4173\n",
            "Epoch 25/30\n",
            "363/363 [==============================] - 0s 1ms/step - loss: 0.4187 - val_loss: 0.4412\n",
            "Epoch 26/30\n",
            "363/363 [==============================] - 0s 1ms/step - loss: 0.4153 - val_loss: 0.4340\n",
            "Epoch 27/30\n",
            "363/363 [==============================] - 0s 1ms/step - loss: 0.4120 - val_loss: 0.4119\n",
            "Epoch 28/30\n",
            "363/363 [==============================] - 1s 1ms/step - loss: 0.4089 - val_loss: 0.4261\n",
            "Epoch 29/30\n",
            "363/363 [==============================] - 0s 1ms/step - loss: 0.4059 - val_loss: 0.4147\n",
            "Epoch 30/30\n",
            "363/363 [==============================] - 0s 1ms/step - loss: 0.4031 - val_loss: 0.4230\n"
          ]
        }
      ],
      "source": [
        "tensorboard_cb = keras.callbacks.TensorBoard(run_logdir)\n",
        "history = model.fit(X_train, y_train, epochs=30,\n",
        "                    validation_data=(X_valid, y_valid),\n",
        "                    callbacks=[checkpoint_cb, tensorboard_cb])"
      ]
    },
    {
      "cell_type": "code",
      "execution_count": null,
      "id": "db0c4cc3",
      "metadata": {
        "id": "db0c4cc3",
        "outputId": "ac101dd9-f907-4ece-ab58-1bf4cea1d2f8"
      },
      "outputs": [
        {
          "data": {
            "text/html": [
              "\n",
              "      <iframe id=\"tensorboard-frame-2a107334e81d3f1b\" width=\"100%\" height=\"800\" frameborder=\"0\">\n",
              "      </iframe>\n",
              "      <script>\n",
              "        (function() {\n",
              "          const frame = document.getElementById(\"tensorboard-frame-2a107334e81d3f1b\");\n",
              "          const url = new URL(\"/\", window.location);\n",
              "          const port = 6006;\n",
              "          if (port) {\n",
              "            url.port = port;\n",
              "          }\n",
              "          frame.src = url;\n",
              "        })();\n",
              "      </script>\n",
              "    "
            ],
            "text/plain": [
              "<IPython.core.display.HTML object>"
            ]
          },
          "metadata": {},
          "output_type": "display_data"
        }
      ],
      "source": [
        "%load_ext tensorboard\n",
        "%tensorboard --logdir=./my_logs --port=6006"
      ]
    }
  ],
  "metadata": {
    "kernelspec": {
      "display_name": "Python 3 (ipykernel)",
      "language": "python",
      "name": "python3"
    },
    "language_info": {
      "codemirror_mode": {
        "name": "ipython",
        "version": 3
      },
      "file_extension": ".py",
      "mimetype": "text/x-python",
      "name": "python",
      "nbconvert_exporter": "python",
      "pygments_lexer": "ipython3",
      "version": "3.9.12"
    },
    "colab": {
      "provenance": [],
      "include_colab_link": true
    }
  },
  "nbformat": 4,
  "nbformat_minor": 5
}
